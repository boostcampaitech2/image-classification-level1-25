{
 "cells": [
  {
   "cell_type": "code",
   "execution_count": 2,
   "source": [
    "import os\n",
    "import pandas as pd\n",
    "from PIL import Image\n",
    "\n",
    "import torch\n",
    "from torch.utils.data import Dataset, DataLoader\n",
    "from torchvision import transforms\n",
    "\n",
    "from tqdm.notebook import tqdm\n",
    "\n",
    "from pytz import timezone\n",
    "import datetime as dt\n",
    "\n",
    "from sklearn.metrics import f1_score\n",
    "\n",
    "import wandb"
   ],
   "outputs": [],
   "metadata": {}
  },
  {
   "cell_type": "code",
   "execution_count": 3,
   "source": [
    "from models.model_bj import resnetbase3 as MaskModel\n",
    "from datasets.dataset_bj import basicDatasetA as MaskDataset\n",
    "from trans.trans_bj import A_random_trans as TrainTrans\n",
    "from trans.trans_bj import A_just_tensor as TestTrans\n",
    "\n",
    "CLASS_NUM = 18\n",
    "NUM_WORKERS = 4\n",
    "BATCH_SIZE = 32\n",
    "NUM_EPOCH = 30\n",
    "SAVE_INTERVAL = 3\n",
    "\n",
    "wandb_run_name = 'RN18_BS32_BL_JS_EP30'\n",
    "wandb_project_name = 'lv1_p'\n",
    "wandb_entity = 'presto105'\n",
    "\n",
    "load_path = ''\n",
    "\n",
    "comment = ''"
   ],
   "outputs": [],
   "metadata": {}
  },
  {
   "cell_type": "code",
   "execution_count": 6,
   "source": [
    "c = ''\n",
    "log = []\n",
    "\n",
    "test_dir = '/opt/ml/input/data/train'\n",
    "eval_dir = '/opt/ml/input/data/eval'\n",
    "save_dir = '/opt/ml/image-classification-level1-25/save/'\n",
    "now = (dt.datetime.now().astimezone(timezone(\"Asia/Seoul\")).strftime(\"%Y%m%d_%H%M%S\"))\n",
    "device = torch.device(\"cuda:0\" if torch.cuda.is_available() else \"cpu\")\n",
    "\n",
    "model = MaskModel(CLASS_NUM)\n",
    "if load_path : model.load_state_dict(torch.load(load_path))    \n",
    "model = model.to(device)\n",
    "\n",
    "loss_fn = torch.nn.CrossEntropyLoss()\n",
    "optm = torch.optim.Adam(model.parameters())\n",
    "\n",
    "scheduler = torch.optim.lr_scheduler.MultiStepLR(optm, milestones=[6,8,9], gamma=0.1)\n",
    "lrs = []\n"
   ],
   "outputs": [],
   "metadata": {}
  },
  {
   "cell_type": "code",
   "execution_count": 7,
   "source": [
    "TrainTransform = TrainTrans()\n",
    "TestTransfrom = TestTrans()\n",
    "\n",
    "dataset_train_mask = MaskDataset(test_dir, train='train', transform=TrainTransform)\n",
    "dataset_test_mask = MaskDataset(test_dir, train='test', transform=TestTransfrom)\n",
    "\n",
    "dataloader_train_mask = DataLoader(dataset=dataset_train_mask,\n",
    "                                      batch_size=BATCH_SIZE,\n",
    "                                      num_workers=NUM_WORKERS,\n",
    "                                      )\n",
    "dataloader_test_mask = DataLoader(dataset=dataset_test_mask,\n",
    "                                      batch_size=BATCH_SIZE,\n",
    "                                      num_workers=NUM_WORKERS,\n",
    "                                      )\n",
    "\n",
    "dataloaders = {\n",
    "        \"train\": dataloader_train_mask,\n",
    "        \"test\": dataloader_test_mask\n",
    "}"
   ],
   "outputs": [],
   "metadata": {}
  },
  {
   "cell_type": "code",
   "execution_count": 8,
   "source": [
    "log.append(f'{c:#^80}')\n",
    "log.append(f'  [Comment]')\n",
    "log.append(f'{comment}')\n",
    "log.append(f'{c:#^80}')\n",
    "log.append(c); log.append(c); log.append(c)\n",
    "\n",
    "log.append(f'Model         : {model.__class__.__name__}')\n",
    "log.append(f'  load_state  : {load_path}')\n",
    "log.append(f'Dataset       : {dataset_train_mask.__class__.__name__}')\n",
    "log.append(f'  train_len    {len(dataset_train_mask):>10}')\n",
    "log.append(f'  test_len     {len(dataset_test_mask):>10}')\n",
    "log.append(f'Train_trans   : {TrainTrans.__name__}')\n",
    "log.append(f'Test_trans    : {TestTrans.__name__}')\n",
    "log.append(f'Start_Date    : {now}')\n",
    "log.append(f'Device        : {device}')\n",
    "log.append(f'CLASS_NUM     : {CLASS_NUM}')\n",
    "log.append(f'NUM_WORKERS   : {NUM_WORKERS}')\n",
    "log.append(f'BATCH_SIZE    : {BATCH_SIZE}')\n",
    "log.append(f'NUM_EPOCH     : {NUM_EPOCH}')\n",
    "log.append(f'SAVE_INTERVAL : {SAVE_INTERVAL}')\n",
    "\n",
    "\n",
    "for line in log:\n",
    "    print(line)\n",
    "    \n",
    "log.append(c); log.append(c); log.append(c)"
   ],
   "outputs": [
    {
     "output_type": "stream",
     "name": "stdout",
     "text": [
      "################################################################################\n",
      "  [Comment]\n",
      "\n",
      "################################################################################\n",
      "\n",
      "\n",
      "\n",
      "Model         : resnetbase3\n",
      "  load_state  : \n",
      "Dataset       : basicDatasetA\n",
      "  train_len         15120\n",
      "  test_len           3780\n",
      "Train_trans   : A_random_trans\n",
      "Test_trans    : A_just_tensor\n",
      "Start_Date    : 20210827_155926\n",
      "Device        : cuda:0\n",
      "CLASS_NUM     : 18\n",
      "NUM_WORKERS   : 4\n",
      "BATCH_SIZE    : 32\n",
      "NUM_EPOCH     : 30\n",
      "SAVE_INTERVAL : 3\n"
     ]
    }
   ],
   "metadata": {}
  },
  {
   "cell_type": "code",
   "execution_count": 9,
   "source": [
    "config={\"epochs\": NUM_EPOCH, \"batch_size\": BATCH_SIZE}\n",
    "wandb.init(project=wandb_project_name, entity=wandb_entity, config=config)\n",
    "wandb.run.name = wandb_run_name"
   ],
   "outputs": [
    {
     "output_type": "stream",
     "name": "stderr",
     "text": [
      "Failed to detect the name of this notebook, you can set it manually with the WANDB_NOTEBOOK_NAME environment variable to enable code saving.\n",
      "\u001b[34m\u001b[1mwandb\u001b[0m: Currently logged in as: \u001b[33mpresto105\u001b[0m (use `wandb login --relogin` to force relogin)\n",
      "\u001b[34m\u001b[1mwandb\u001b[0m: wandb version 0.12.1 is available!  To upgrade, please run:\n",
      "\u001b[34m\u001b[1mwandb\u001b[0m:  $ pip install wandb --upgrade\n"
     ]
    },
    {
     "output_type": "display_data",
     "data": {
      "text/plain": [
       "<IPython.core.display.HTML object>"
      ],
      "text/html": [
       "\n",
       "                Tracking run with wandb version 0.12.0<br/>\n",
       "                Syncing run <strong style=\"color:#cdcd00\">playful-breeze-54</strong> to <a href=\"https://wandb.ai\" target=\"_blank\">Weights & Biases</a> <a href=\"https://docs.wandb.com/integrations/jupyter.html\" target=\"_blank\">(Documentation)</a>.<br/>\n",
       "                Project page: <a href=\"https://wandb.ai/presto105/lv1_p\" target=\"_blank\">https://wandb.ai/presto105/lv1_p</a><br/>\n",
       "                Run page: <a href=\"https://wandb.ai/presto105/lv1_p/runs/mtoydso4\" target=\"_blank\">https://wandb.ai/presto105/lv1_p/runs/mtoydso4</a><br/>\n",
       "                Run data is saved locally in <code>/opt/ml/image-classification-level1-25/wandb/run-20210827_065931-mtoydso4</code><br/><br/>\n",
       "            "
      ]
     },
     "metadata": {}
    }
   ],
   "metadata": {}
  },
  {
   "cell_type": "code",
   "execution_count": 10,
   "source": [
    "best_test_accuracy = 0.\n",
    "best_test_loss = float('inf')\n",
    "best_f1 = 0.\n",
    "\n",
    "for epoch in range(NUM_EPOCH):\n",
    "    for phase in [\"train\", \"test\"]:\n",
    "        running_loss = 0.\n",
    "        running_acc = 0.\n",
    "        running_f1 = 0.\n",
    "        \n",
    "        if phase == \"train\":\n",
    "            model.train()\n",
    "        elif phase == \"test\":\n",
    "            model.eval() \n",
    "            \n",
    "        for idx, (images, labels) in enumerate(pbar := tqdm(dataloaders[phase]), start = 1):\n",
    "            images, labels = images.to(device), labels.to(device)\n",
    "\n",
    "            optm.zero_grad()\n",
    "            \n",
    "            with torch.set_grad_enabled(phase == \"train\"):\n",
    "                logits = model(images)\n",
    "                _, preds = torch.max(logits, 1)\n",
    "                loss = loss_fn(logits, labels)\n",
    "                if phase == \"train\":\n",
    "                    loss.backward()  # 모델의 예측 값과 실제 값의 CrossEntropy 차이를 통해 gradient 계산\n",
    "                    optm.step()  # 계산된 gradient를 가지고 모델 업데이트\n",
    "                    lrs.append(optm.param_groups[0][\"lr\"])\n",
    "                    scheduler.step()\n",
    "            \n",
    "            running_loss += loss.item() * images.size(0)\n",
    "            running_acc += torch.sum(preds == labels.data)\n",
    "            running_f1 += f1_score(labels.cpu().numpy(), preds.cpu().numpy(), average='macro')\n",
    "            pbar.set_description(f\"loss : {running_loss/(idx*BATCH_SIZE):.3f}, acc : {running_acc/(idx*BATCH_SIZE):.3f}, f1 : {running_f1/(idx):.3f}\")\n",
    "    \n",
    "        epoch_loss = running_loss / len(dataloaders[phase].dataset)\n",
    "        epoch_acc = running_acc / len(dataloaders[phase].dataset)\n",
    "        epoch_f1 = running_f1 / len(dataloaders[phase])\n",
    "\n",
    "        log.append(f\"[{phase.upper():<5}] Epoch {epoch:0>3d} // (avg) Loss : {epoch_loss:.3f}, Accuracy : {epoch_acc*100:.3f}, F1 : {epoch_f1:.3f}\")\n",
    "        print(log[-1])\n",
    "        \n",
    "        if phase == \"test\":\n",
    "            wandb.log({'accuracy': epoch_acc, 'loss': epoch_loss, 'F1': epoch_f1})\n",
    "            if best_test_accuracy < epoch_acc:\n",
    "                best_test_accuracy = epoch_acc\n",
    "            if best_test_loss > epoch_loss:\n",
    "                best_test_loss = epoch_loss\n",
    "            if best_f1 < epoch_f1:\n",
    "                best_f1 = epoch_f1\n",
    "            if epoch % SAVE_INTERVAL == 0:\n",
    "                torch.save(model.state_dict(), os.path.join(save_dir, f'{now}_{model.__class__.__name__}_epoch_{epoch:0>3d}.pt'))\n",
    "\n",
    "torch.save(model.state_dict(), os.path.join(save_dir, f'{now}_{model.__class__.__name__}_finish_{NUM_EPOCH:0>3d}.pt'))\n",
    "\n",
    "\n",
    "log.append(c)\n",
    "print(log[-1])   \n",
    "log.append(c)\n",
    "print(log[-1])  \n",
    "log.append(c)\n",
    "print(log[-1])  \n",
    "log.append(f'{c:#^80}')\n",
    "print(log[-1])            \n",
    "log.append(f':::학습종료:::')\n",
    "print(log[-1])\n",
    "log.append(f\"최고 accuracy : {best_test_accuracy:.5f}, 최저 loss : {best_test_loss:.5f}, 최고 F1 : {best_f1:.5f}\")\n",
    "print(log[-1])\n",
    "log.append(f'{c:#^80}')\n",
    "print(log[-1]) "
   ],
   "outputs": [
    {
     "output_type": "display_data",
     "data": {
      "text/plain": [
       "HBox(children=(HTML(value=''), FloatProgress(value=0.0, max=473.0), HTML(value='')))"
      ],
      "application/vnd.jupyter.widget-view+json": {
       "version_major": 2,
       "version_minor": 0,
       "model_id": "f7ef5bfa3ea744b7958fd5d072eb314c"
      }
     },
     "metadata": {}
    },
    {
     "output_type": "stream",
     "name": "stdout",
     "text": [
      "\n",
      "[TRAIN] Epoch 000 // (avg) Loss : 2.875, Accuracy : 0.302, F1 : 0.170\n"
     ]
    },
    {
     "output_type": "display_data",
     "data": {
      "text/plain": [
       "HBox(children=(HTML(value=''), FloatProgress(value=0.0, max=119.0), HTML(value='')))"
      ],
      "application/vnd.jupyter.widget-view+json": {
       "version_major": 2,
       "version_minor": 0,
       "model_id": "1200410d9c8d49d097b82e612a62fccf"
      }
     },
     "metadata": {}
    },
    {
     "output_type": "stream",
     "name": "stdout",
     "text": [
      "\n",
      "[TEST ] Epoch 000 // (avg) Loss : 1.987, Accuracy : 0.476, F1 : 0.299\n"
     ]
    },
    {
     "output_type": "display_data",
     "data": {
      "text/plain": [
       "HBox(children=(HTML(value=''), FloatProgress(value=0.0, max=473.0), HTML(value='')))"
      ],
      "application/vnd.jupyter.widget-view+json": {
       "version_major": 2,
       "version_minor": 0,
       "model_id": "830d03cea674411ebf54f8105ad8c0b5"
      }
     },
     "metadata": {}
    },
    {
     "output_type": "stream",
     "name": "stdout",
     "text": [
      "\n",
      "[TRAIN] Epoch 001 // (avg) Loss : 2.280, Accuracy : 0.357, F1 : 0.221\n"
     ]
    },
    {
     "output_type": "display_data",
     "data": {
      "text/plain": [
       "HBox(children=(HTML(value=''), FloatProgress(value=0.0, max=119.0), HTML(value='')))"
      ],
      "application/vnd.jupyter.widget-view+json": {
       "version_major": 2,
       "version_minor": 0,
       "model_id": "8d3d1e1ecea341fba7d222c599bd07e5"
      }
     },
     "metadata": {}
    },
    {
     "output_type": "stream",
     "name": "stdout",
     "text": [
      "\n",
      "[TEST ] Epoch 001 // (avg) Loss : 1.814, Accuracy : 0.493, F1 : 0.302\n"
     ]
    },
    {
     "output_type": "display_data",
     "data": {
      "text/plain": [
       "HBox(children=(HTML(value=''), FloatProgress(value=0.0, max=473.0), HTML(value='')))"
      ],
      "application/vnd.jupyter.widget-view+json": {
       "version_major": 2,
       "version_minor": 0,
       "model_id": "8c4d804c650d43e9afdc4010778617fc"
      }
     },
     "metadata": {}
    },
    {
     "output_type": "stream",
     "name": "stdout",
     "text": [
      "\n",
      "[TRAIN] Epoch 002 // (avg) Loss : 2.048, Accuracy : 0.385, F1 : 0.250\n"
     ]
    },
    {
     "output_type": "display_data",
     "data": {
      "text/plain": [
       "HBox(children=(HTML(value=''), FloatProgress(value=0.0, max=119.0), HTML(value='')))"
      ],
      "application/vnd.jupyter.widget-view+json": {
       "version_major": 2,
       "version_minor": 0,
       "model_id": "b96953fde7d144caa828eafcb04c76fe"
      }
     },
     "metadata": {}
    },
    {
     "output_type": "stream",
     "name": "stdout",
     "text": [
      "\n",
      "[TEST ] Epoch 002 // (avg) Loss : 1.688, Accuracy : 0.542, F1 : 0.324\n"
     ]
    },
    {
     "output_type": "display_data",
     "data": {
      "text/plain": [
       "HBox(children=(HTML(value=''), FloatProgress(value=0.0, max=473.0), HTML(value='')))"
      ],
      "application/vnd.jupyter.widget-view+json": {
       "version_major": 2,
       "version_minor": 0,
       "model_id": "1c3b8fff6b4249b7b79de331fad405db"
      }
     },
     "metadata": {}
    },
    {
     "output_type": "stream",
     "name": "stdout",
     "text": [
      "\n",
      "[TRAIN] Epoch 003 // (avg) Loss : 1.913, Accuracy : 0.398, F1 : 0.262\n"
     ]
    },
    {
     "output_type": "display_data",
     "data": {
      "text/plain": [
       "HBox(children=(HTML(value=''), FloatProgress(value=0.0, max=119.0), HTML(value='')))"
      ],
      "application/vnd.jupyter.widget-view+json": {
       "version_major": 2,
       "version_minor": 0,
       "model_id": "beb73edca8eb4c93a5598590f9cce6fb"
      }
     },
     "metadata": {}
    },
    {
     "output_type": "stream",
     "name": "stdout",
     "text": [
      "\n",
      "[TEST ] Epoch 003 // (avg) Loss : 1.553, Accuracy : 0.589, F1 : 0.373\n"
     ]
    },
    {
     "output_type": "display_data",
     "data": {
      "text/plain": [
       "HBox(children=(HTML(value=''), FloatProgress(value=0.0, max=473.0), HTML(value='')))"
      ],
      "application/vnd.jupyter.widget-view+json": {
       "version_major": 2,
       "version_minor": 0,
       "model_id": "0275a0c837f048538f2d9d90a268a6ec"
      }
     },
     "metadata": {}
    },
    {
     "output_type": "stream",
     "name": "stdout",
     "text": [
      "\n",
      "[TRAIN] Epoch 004 // (avg) Loss : 1.790, Accuracy : 0.430, F1 : 0.292\n"
     ]
    },
    {
     "output_type": "display_data",
     "data": {
      "text/plain": [
       "HBox(children=(HTML(value=''), FloatProgress(value=0.0, max=119.0), HTML(value='')))"
      ],
      "application/vnd.jupyter.widget-view+json": {
       "version_major": 2,
       "version_minor": 0,
       "model_id": "b0a723cd57464db2bacc721ea6d55bb2"
      }
     },
     "metadata": {}
    },
    {
     "output_type": "stream",
     "name": "stdout",
     "text": [
      "\n",
      "[TEST ] Epoch 004 // (avg) Loss : 1.452, Accuracy : 0.608, F1 : 0.392\n"
     ]
    },
    {
     "output_type": "display_data",
     "data": {
      "text/plain": [
       "HBox(children=(HTML(value=''), FloatProgress(value=0.0, max=473.0), HTML(value='')))"
      ],
      "application/vnd.jupyter.widget-view+json": {
       "version_major": 2,
       "version_minor": 0,
       "model_id": "5ef7e1be06c1492cb08913a0741cb608"
      }
     },
     "metadata": {}
    },
    {
     "output_type": "stream",
     "name": "stdout",
     "text": [
      "\n",
      "[TRAIN] Epoch 005 // (avg) Loss : 1.699, Accuracy : 0.456, F1 : 0.310\n"
     ]
    },
    {
     "output_type": "display_data",
     "data": {
      "text/plain": [
       "HBox(children=(HTML(value=''), FloatProgress(value=0.0, max=119.0), HTML(value='')))"
      ],
      "application/vnd.jupyter.widget-view+json": {
       "version_major": 2,
       "version_minor": 0,
       "model_id": "6ce96b59e13e449b952b6e43284ca572"
      }
     },
     "metadata": {}
    },
    {
     "output_type": "stream",
     "name": "stdout",
     "text": [
      "\n",
      "[TEST ] Epoch 005 // (avg) Loss : 1.345, Accuracy : 0.644, F1 : 0.446\n"
     ]
    },
    {
     "output_type": "display_data",
     "data": {
      "text/plain": [
       "HBox(children=(HTML(value=''), FloatProgress(value=0.0, max=473.0), HTML(value='')))"
      ],
      "application/vnd.jupyter.widget-view+json": {
       "version_major": 2,
       "version_minor": 0,
       "model_id": "935865236161419aaa84f2b0fadd3a74"
      }
     },
     "metadata": {}
    },
    {
     "output_type": "stream",
     "name": "stdout",
     "text": [
      "\n",
      "[TRAIN] Epoch 006 // (avg) Loss : 1.632, Accuracy : 0.467, F1 : 0.322\n"
     ]
    },
    {
     "output_type": "display_data",
     "data": {
      "text/plain": [
       "HBox(children=(HTML(value=''), FloatProgress(value=0.0, max=119.0), HTML(value='')))"
      ],
      "application/vnd.jupyter.widget-view+json": {
       "version_major": 2,
       "version_minor": 0,
       "model_id": "88b97cc9952e42efb1f9b01e7484c374"
      }
     },
     "metadata": {}
    },
    {
     "output_type": "stream",
     "name": "stdout",
     "text": [
      "\n",
      "[TEST ] Epoch 006 // (avg) Loss : 1.256, Accuracy : 0.659, F1 : 0.455\n"
     ]
    },
    {
     "output_type": "display_data",
     "data": {
      "text/plain": [
       "HBox(children=(HTML(value=''), FloatProgress(value=0.0, max=473.0), HTML(value='')))"
      ],
      "application/vnd.jupyter.widget-view+json": {
       "version_major": 2,
       "version_minor": 0,
       "model_id": "a133c38b624443efb4e9dc893a01ed0d"
      }
     },
     "metadata": {}
    },
    {
     "output_type": "stream",
     "name": "stdout",
     "text": [
      "\n",
      "[TRAIN] Epoch 007 // (avg) Loss : 1.559, Accuracy : 0.489, F1 : 0.341\n"
     ]
    },
    {
     "output_type": "display_data",
     "data": {
      "text/plain": [
       "HBox(children=(HTML(value=''), FloatProgress(value=0.0, max=119.0), HTML(value='')))"
      ],
      "application/vnd.jupyter.widget-view+json": {
       "version_major": 2,
       "version_minor": 0,
       "model_id": "2e404cadc13c47d3a69aa5d4eb26c1b9"
      }
     },
     "metadata": {}
    },
    {
     "output_type": "stream",
     "name": "stdout",
     "text": [
      "\n",
      "[TEST ] Epoch 007 // (avg) Loss : 1.207, Accuracy : 0.670, F1 : 0.470\n"
     ]
    },
    {
     "output_type": "display_data",
     "data": {
      "text/plain": [
       "HBox(children=(HTML(value=''), FloatProgress(value=0.0, max=473.0), HTML(value='')))"
      ],
      "application/vnd.jupyter.widget-view+json": {
       "version_major": 2,
       "version_minor": 0,
       "model_id": "851958a21827452daed471a7b170f1c1"
      }
     },
     "metadata": {}
    },
    {
     "output_type": "stream",
     "name": "stdout",
     "text": [
      "\n",
      "[TRAIN] Epoch 008 // (avg) Loss : 1.485, Accuracy : 0.509, F1 : 0.368\n"
     ]
    },
    {
     "output_type": "display_data",
     "data": {
      "text/plain": [
       "HBox(children=(HTML(value=''), FloatProgress(value=0.0, max=119.0), HTML(value='')))"
      ],
      "application/vnd.jupyter.widget-view+json": {
       "version_major": 2,
       "version_minor": 0,
       "model_id": "999d41c6d11b4134addac1ba1575a58d"
      }
     },
     "metadata": {}
    },
    {
     "output_type": "stream",
     "name": "stdout",
     "text": [
      "\n",
      "[TEST ] Epoch 008 // (avg) Loss : 1.159, Accuracy : 0.690, F1 : 0.492\n"
     ]
    },
    {
     "output_type": "display_data",
     "data": {
      "text/plain": [
       "HBox(children=(HTML(value=''), FloatProgress(value=0.0, max=473.0), HTML(value='')))"
      ],
      "application/vnd.jupyter.widget-view+json": {
       "version_major": 2,
       "version_minor": 0,
       "model_id": "1855e3e3b8c943bcab49b9b8bdc2e52c"
      }
     },
     "metadata": {}
    },
    {
     "output_type": "stream",
     "name": "stdout",
     "text": [
      "\n",
      "[TRAIN] Epoch 009 // (avg) Loss : 1.436, Accuracy : 0.517, F1 : 0.375\n"
     ]
    },
    {
     "output_type": "display_data",
     "data": {
      "text/plain": [
       "HBox(children=(HTML(value=''), FloatProgress(value=0.0, max=119.0), HTML(value='')))"
      ],
      "application/vnd.jupyter.widget-view+json": {
       "version_major": 2,
       "version_minor": 0,
       "model_id": "0f1b3376b8ed4ab793b2902ff58bf2e2"
      }
     },
     "metadata": {}
    },
    {
     "output_type": "stream",
     "name": "stdout",
     "text": [
      "\n",
      "[TEST ] Epoch 009 // (avg) Loss : 1.144, Accuracy : 0.696, F1 : 0.498\n"
     ]
    },
    {
     "output_type": "display_data",
     "data": {
      "text/plain": [
       "HBox(children=(HTML(value=''), FloatProgress(value=0.0, max=473.0), HTML(value='')))"
      ],
      "application/vnd.jupyter.widget-view+json": {
       "version_major": 2,
       "version_minor": 0,
       "model_id": "d492de460735452fa3e8fe05fb9f8e2e"
      }
     },
     "metadata": {}
    },
    {
     "output_type": "stream",
     "name": "stdout",
     "text": [
      "\n",
      "[TRAIN] Epoch 010 // (avg) Loss : 1.395, Accuracy : 0.531, F1 : 0.388\n"
     ]
    },
    {
     "output_type": "display_data",
     "data": {
      "text/plain": [
       "HBox(children=(HTML(value=''), FloatProgress(value=0.0, max=119.0), HTML(value='')))"
      ],
      "application/vnd.jupyter.widget-view+json": {
       "version_major": 2,
       "version_minor": 0,
       "model_id": "6a193bd30e52438193b9dbe6c4a8ae10"
      }
     },
     "metadata": {}
    },
    {
     "output_type": "stream",
     "name": "stdout",
     "text": [
      "\n",
      "[TEST ] Epoch 010 // (avg) Loss : 1.092, Accuracy : 0.721, F1 : 0.540\n"
     ]
    },
    {
     "output_type": "display_data",
     "data": {
      "text/plain": [
       "HBox(children=(HTML(value=''), FloatProgress(value=0.0, max=473.0), HTML(value='')))"
      ],
      "application/vnd.jupyter.widget-view+json": {
       "version_major": 2,
       "version_minor": 0,
       "model_id": "51a2089c034445578a462f3be8e79748"
      }
     },
     "metadata": {}
    },
    {
     "output_type": "stream",
     "name": "stdout",
     "text": [
      "\n",
      "[TRAIN] Epoch 011 // (avg) Loss : 1.344, Accuracy : 0.551, F1 : 0.398\n"
     ]
    },
    {
     "output_type": "display_data",
     "data": {
      "text/plain": [
       "HBox(children=(HTML(value=''), FloatProgress(value=0.0, max=119.0), HTML(value='')))"
      ],
      "application/vnd.jupyter.widget-view+json": {
       "version_major": 2,
       "version_minor": 0,
       "model_id": "1e92a9e31ef84dc1950525e419c1b520"
      }
     },
     "metadata": {}
    },
    {
     "output_type": "stream",
     "name": "stdout",
     "text": [
      "\n",
      "[TEST ] Epoch 011 // (avg) Loss : 1.071, Accuracy : 0.727, F1 : 0.549\n"
     ]
    },
    {
     "output_type": "display_data",
     "data": {
      "text/plain": [
       "HBox(children=(HTML(value=''), FloatProgress(value=0.0, max=473.0), HTML(value='')))"
      ],
      "application/vnd.jupyter.widget-view+json": {
       "version_major": 2,
       "version_minor": 0,
       "model_id": "44a1d8169ede46a9b9c6bf202e484d1b"
      }
     },
     "metadata": {}
    },
    {
     "output_type": "stream",
     "name": "stdout",
     "text": [
      "\n",
      "[TRAIN] Epoch 012 // (avg) Loss : 1.308, Accuracy : 0.559, F1 : 0.413\n"
     ]
    },
    {
     "output_type": "display_data",
     "data": {
      "text/plain": [
       "HBox(children=(HTML(value=''), FloatProgress(value=0.0, max=119.0), HTML(value='')))"
      ],
      "application/vnd.jupyter.widget-view+json": {
       "version_major": 2,
       "version_minor": 0,
       "model_id": "47cdf2cfc7f846199a5beaead7e68da4"
      }
     },
     "metadata": {}
    },
    {
     "output_type": "stream",
     "name": "stdout",
     "text": [
      "\n",
      "[TEST ] Epoch 012 // (avg) Loss : 1.031, Accuracy : 0.735, F1 : 0.553\n"
     ]
    },
    {
     "output_type": "display_data",
     "data": {
      "text/plain": [
       "HBox(children=(HTML(value=''), FloatProgress(value=0.0, max=473.0), HTML(value='')))"
      ],
      "application/vnd.jupyter.widget-view+json": {
       "version_major": 2,
       "version_minor": 0,
       "model_id": "8f87b3949c9742ec83bb72b896a73a7d"
      }
     },
     "metadata": {}
    },
    {
     "output_type": "stream",
     "name": "stdout",
     "text": [
      "\n",
      "[TRAIN] Epoch 013 // (avg) Loss : 1.271, Accuracy : 0.570, F1 : 0.427\n"
     ]
    },
    {
     "output_type": "display_data",
     "data": {
      "text/plain": [
       "HBox(children=(HTML(value=''), FloatProgress(value=0.0, max=119.0), HTML(value='')))"
      ],
      "application/vnd.jupyter.widget-view+json": {
       "version_major": 2,
       "version_minor": 0,
       "model_id": "236c94d6895d422c870d429df9433fc3"
      }
     },
     "metadata": {}
    },
    {
     "output_type": "stream",
     "name": "stdout",
     "text": [
      "\n",
      "[TEST ] Epoch 013 // (avg) Loss : 1.024, Accuracy : 0.742, F1 : 0.569\n"
     ]
    },
    {
     "output_type": "display_data",
     "data": {
      "text/plain": [
       "HBox(children=(HTML(value=''), FloatProgress(value=0.0, max=473.0), HTML(value='')))"
      ],
      "application/vnd.jupyter.widget-view+json": {
       "version_major": 2,
       "version_minor": 0,
       "model_id": "52c85f59c6d54408a1e6911547f857dd"
      }
     },
     "metadata": {}
    },
    {
     "output_type": "stream",
     "name": "stdout",
     "text": [
      "\n",
      "[TRAIN] Epoch 014 // (avg) Loss : 1.246, Accuracy : 0.575, F1 : 0.428\n"
     ]
    },
    {
     "output_type": "display_data",
     "data": {
      "text/plain": [
       "HBox(children=(HTML(value=''), FloatProgress(value=0.0, max=119.0), HTML(value='')))"
      ],
      "application/vnd.jupyter.widget-view+json": {
       "version_major": 2,
       "version_minor": 0,
       "model_id": "e0f5f7daecd447068503d25a150683a5"
      }
     },
     "metadata": {}
    },
    {
     "output_type": "stream",
     "name": "stdout",
     "text": [
      "\n",
      "[TEST ] Epoch 014 // (avg) Loss : 1.014, Accuracy : 0.744, F1 : 0.572\n"
     ]
    },
    {
     "output_type": "display_data",
     "data": {
      "text/plain": [
       "HBox(children=(HTML(value=''), FloatProgress(value=0.0, max=473.0), HTML(value='')))"
      ],
      "application/vnd.jupyter.widget-view+json": {
       "version_major": 2,
       "version_minor": 0,
       "model_id": "3d86ad720b0f4f56acf1cd3ff5e98503"
      }
     },
     "metadata": {}
    },
    {
     "output_type": "stream",
     "name": "stdout",
     "text": [
      "\n",
      "[TRAIN] Epoch 015 // (avg) Loss : 1.223, Accuracy : 0.585, F1 : 0.439\n"
     ]
    },
    {
     "output_type": "display_data",
     "data": {
      "text/plain": [
       "HBox(children=(HTML(value=''), FloatProgress(value=0.0, max=119.0), HTML(value='')))"
      ],
      "application/vnd.jupyter.widget-view+json": {
       "version_major": 2,
       "version_minor": 0,
       "model_id": "22e37b495fe84ee292e0e067541d090c"
      }
     },
     "metadata": {}
    },
    {
     "output_type": "stream",
     "name": "stdout",
     "text": [
      "\n",
      "[TEST ] Epoch 015 // (avg) Loss : 0.989, Accuracy : 0.761, F1 : 0.593\n"
     ]
    },
    {
     "output_type": "display_data",
     "data": {
      "text/plain": [
       "HBox(children=(HTML(value=''), FloatProgress(value=0.0, max=473.0), HTML(value='')))"
      ],
      "application/vnd.jupyter.widget-view+json": {
       "version_major": 2,
       "version_minor": 0,
       "model_id": "d33c4694056743d08eaf58ff6820b167"
      }
     },
     "metadata": {}
    },
    {
     "output_type": "stream",
     "name": "stdout",
     "text": [
      "\n",
      "[TRAIN] Epoch 016 // (avg) Loss : 1.194, Accuracy : 0.590, F1 : 0.444\n"
     ]
    },
    {
     "output_type": "display_data",
     "data": {
      "text/plain": [
       "HBox(children=(HTML(value=''), FloatProgress(value=0.0, max=119.0), HTML(value='')))"
      ],
      "application/vnd.jupyter.widget-view+json": {
       "version_major": 2,
       "version_minor": 0,
       "model_id": "8213f898f658490b98c216310a83b095"
      }
     },
     "metadata": {}
    },
    {
     "output_type": "stream",
     "name": "stdout",
     "text": [
      "\n",
      "[TEST ] Epoch 016 // (avg) Loss : 0.986, Accuracy : 0.762, F1 : 0.593\n"
     ]
    },
    {
     "output_type": "display_data",
     "data": {
      "text/plain": [
       "HBox(children=(HTML(value=''), FloatProgress(value=0.0, max=473.0), HTML(value='')))"
      ],
      "application/vnd.jupyter.widget-view+json": {
       "version_major": 2,
       "version_minor": 0,
       "model_id": "24d4a16af2a243b6a3ae8e6db58eb88e"
      }
     },
     "metadata": {}
    },
    {
     "output_type": "stream",
     "name": "stdout",
     "text": [
      "\n",
      "[TRAIN] Epoch 017 // (avg) Loss : 1.161, Accuracy : 0.603, F1 : 0.453\n"
     ]
    },
    {
     "output_type": "display_data",
     "data": {
      "text/plain": [
       "HBox(children=(HTML(value=''), FloatProgress(value=0.0, max=119.0), HTML(value='')))"
      ],
      "application/vnd.jupyter.widget-view+json": {
       "version_major": 2,
       "version_minor": 0,
       "model_id": "83f224efa69a4691a2d2b991689aa19d"
      }
     },
     "metadata": {}
    },
    {
     "output_type": "stream",
     "name": "stdout",
     "text": [
      "\n",
      "[TEST ] Epoch 017 // (avg) Loss : 0.981, Accuracy : 0.762, F1 : 0.594\n"
     ]
    },
    {
     "output_type": "display_data",
     "data": {
      "text/plain": [
       "HBox(children=(HTML(value=''), FloatProgress(value=0.0, max=473.0), HTML(value='')))"
      ],
      "application/vnd.jupyter.widget-view+json": {
       "version_major": 2,
       "version_minor": 0,
       "model_id": "e32579033a9b45df807138804623a460"
      }
     },
     "metadata": {}
    },
    {
     "output_type": "stream",
     "name": "stdout",
     "text": [
      "\n",
      "[TRAIN] Epoch 018 // (avg) Loss : 1.149, Accuracy : 0.611, F1 : 0.468\n"
     ]
    },
    {
     "output_type": "display_data",
     "data": {
      "text/plain": [
       "HBox(children=(HTML(value=''), FloatProgress(value=0.0, max=119.0), HTML(value='')))"
      ],
      "application/vnd.jupyter.widget-view+json": {
       "version_major": 2,
       "version_minor": 0,
       "model_id": "02c218ee44c145d684d4f63e59fa6c4b"
      }
     },
     "metadata": {}
    },
    {
     "output_type": "stream",
     "name": "stdout",
     "text": [
      "\n",
      "[TEST ] Epoch 018 // (avg) Loss : 0.963, Accuracy : 0.766, F1 : 0.603\n"
     ]
    },
    {
     "output_type": "display_data",
     "data": {
      "text/plain": [
       "HBox(children=(HTML(value=''), FloatProgress(value=0.0, max=473.0), HTML(value='')))"
      ],
      "application/vnd.jupyter.widget-view+json": {
       "version_major": 2,
       "version_minor": 0,
       "model_id": "7211d1a0aa284a70afe84fb2f3bd9f97"
      }
     },
     "metadata": {}
    },
    {
     "output_type": "stream",
     "name": "stdout",
     "text": [
      "\n",
      "[TRAIN] Epoch 019 // (avg) Loss : 1.138, Accuracy : 0.613, F1 : 0.466\n"
     ]
    },
    {
     "output_type": "display_data",
     "data": {
      "text/plain": [
       "HBox(children=(HTML(value=''), FloatProgress(value=0.0, max=119.0), HTML(value='')))"
      ],
      "application/vnd.jupyter.widget-view+json": {
       "version_major": 2,
       "version_minor": 0,
       "model_id": "18cadd9dc9414118bf825d9ff039be8b"
      }
     },
     "metadata": {}
    },
    {
     "output_type": "stream",
     "name": "stdout",
     "text": [
      "\n",
      "[TEST ] Epoch 019 // (avg) Loss : 0.947, Accuracy : 0.778, F1 : 0.617\n"
     ]
    },
    {
     "output_type": "display_data",
     "data": {
      "text/plain": [
       "HBox(children=(HTML(value=''), FloatProgress(value=0.0, max=473.0), HTML(value='')))"
      ],
      "application/vnd.jupyter.widget-view+json": {
       "version_major": 2,
       "version_minor": 0,
       "model_id": "c28010ddaab9433a97e7dd008dbf7a09"
      }
     },
     "metadata": {}
    },
    {
     "output_type": "stream",
     "name": "stdout",
     "text": [
      "\n",
      "[TRAIN] Epoch 020 // (avg) Loss : 1.111, Accuracy : 0.616, F1 : 0.465\n"
     ]
    },
    {
     "output_type": "display_data",
     "data": {
      "text/plain": [
       "HBox(children=(HTML(value=''), FloatProgress(value=0.0, max=119.0), HTML(value='')))"
      ],
      "application/vnd.jupyter.widget-view+json": {
       "version_major": 2,
       "version_minor": 0,
       "model_id": "858044811f87484fa3de61ff392977a8"
      }
     },
     "metadata": {}
    },
    {
     "output_type": "stream",
     "name": "stdout",
     "text": [
      "\n",
      "[TEST ] Epoch 020 // (avg) Loss : 0.923, Accuracy : 0.789, F1 : 0.630\n"
     ]
    },
    {
     "output_type": "display_data",
     "data": {
      "text/plain": [
       "HBox(children=(HTML(value=''), FloatProgress(value=0.0, max=473.0), HTML(value='')))"
      ],
      "application/vnd.jupyter.widget-view+json": {
       "version_major": 2,
       "version_minor": 0,
       "model_id": "95933d1ac31340199567f017987ef785"
      }
     },
     "metadata": {}
    },
    {
     "output_type": "stream",
     "name": "stdout",
     "text": [
      "\n",
      "[TRAIN] Epoch 021 // (avg) Loss : 1.087, Accuracy : 0.627, F1 : 0.487\n"
     ]
    },
    {
     "output_type": "display_data",
     "data": {
      "text/plain": [
       "HBox(children=(HTML(value=''), FloatProgress(value=0.0, max=119.0), HTML(value='')))"
      ],
      "application/vnd.jupyter.widget-view+json": {
       "version_major": 2,
       "version_minor": 0,
       "model_id": "b19fdef9277b4df4990b35d44a1119a9"
      }
     },
     "metadata": {}
    },
    {
     "output_type": "stream",
     "name": "stdout",
     "text": [
      "\n",
      "[TEST ] Epoch 021 // (avg) Loss : 0.913, Accuracy : 0.793, F1 : 0.637\n"
     ]
    },
    {
     "output_type": "display_data",
     "data": {
      "text/plain": [
       "HBox(children=(HTML(value=''), FloatProgress(value=0.0, max=473.0), HTML(value='')))"
      ],
      "application/vnd.jupyter.widget-view+json": {
       "version_major": 2,
       "version_minor": 0,
       "model_id": "023e8d891afb4fec85aa5fb6314932e5"
      }
     },
     "metadata": {}
    },
    {
     "output_type": "stream",
     "name": "stdout",
     "text": [
      "\n",
      "[TRAIN] Epoch 022 // (avg) Loss : 1.081, Accuracy : 0.628, F1 : 0.488\n"
     ]
    },
    {
     "output_type": "display_data",
     "data": {
      "text/plain": [
       "HBox(children=(HTML(value=''), FloatProgress(value=0.0, max=119.0), HTML(value='')))"
      ],
      "application/vnd.jupyter.widget-view+json": {
       "version_major": 2,
       "version_minor": 0,
       "model_id": "ba05f3e587b348d4907916df9f64027c"
      }
     },
     "metadata": {}
    },
    {
     "output_type": "stream",
     "name": "stdout",
     "text": [
      "\n",
      "[TEST ] Epoch 022 // (avg) Loss : 0.896, Accuracy : 0.801, F1 : 0.651\n"
     ]
    },
    {
     "output_type": "display_data",
     "data": {
      "text/plain": [
       "HBox(children=(HTML(value=''), FloatProgress(value=0.0, max=473.0), HTML(value='')))"
      ],
      "application/vnd.jupyter.widget-view+json": {
       "version_major": 2,
       "version_minor": 0,
       "model_id": "9703b3361fa94f1cb4b7bcea3b1362a1"
      }
     },
     "metadata": {}
    },
    {
     "output_type": "stream",
     "name": "stdout",
     "text": [
      "\n",
      "[TRAIN] Epoch 023 // (avg) Loss : 1.060, Accuracy : 0.638, F1 : 0.492\n"
     ]
    },
    {
     "output_type": "display_data",
     "data": {
      "text/plain": [
       "HBox(children=(HTML(value=''), FloatProgress(value=0.0, max=119.0), HTML(value='')))"
      ],
      "application/vnd.jupyter.widget-view+json": {
       "version_major": 2,
       "version_minor": 0,
       "model_id": "90d815537a0d4fbb9469b785f8c0cbba"
      }
     },
     "metadata": {}
    },
    {
     "output_type": "stream",
     "name": "stdout",
     "text": [
      "\n",
      "[TEST ] Epoch 023 // (avg) Loss : 0.893, Accuracy : 0.799, F1 : 0.653\n"
     ]
    },
    {
     "output_type": "display_data",
     "data": {
      "text/plain": [
       "HBox(children=(HTML(value=''), FloatProgress(value=0.0, max=473.0), HTML(value='')))"
      ],
      "application/vnd.jupyter.widget-view+json": {
       "version_major": 2,
       "version_minor": 0,
       "model_id": "2caa28a161f1435ebbeb5643f412b08d"
      }
     },
     "metadata": {}
    },
    {
     "output_type": "stream",
     "name": "stdout",
     "text": [
      "\n",
      "[TRAIN] Epoch 024 // (avg) Loss : 1.038, Accuracy : 0.644, F1 : 0.498\n"
     ]
    },
    {
     "output_type": "display_data",
     "data": {
      "text/plain": [
       "HBox(children=(HTML(value=''), FloatProgress(value=0.0, max=119.0), HTML(value='')))"
      ],
      "application/vnd.jupyter.widget-view+json": {
       "version_major": 2,
       "version_minor": 0,
       "model_id": "2af3e75cc9f44a6f8bc2672e09a7e7ff"
      }
     },
     "metadata": {}
    },
    {
     "output_type": "stream",
     "name": "stdout",
     "text": [
      "\n",
      "[TEST ] Epoch 024 // (avg) Loss : 0.873, Accuracy : 0.803, F1 : 0.657\n"
     ]
    },
    {
     "output_type": "display_data",
     "data": {
      "text/plain": [
       "HBox(children=(HTML(value=''), FloatProgress(value=0.0, max=473.0), HTML(value='')))"
      ],
      "application/vnd.jupyter.widget-view+json": {
       "version_major": 2,
       "version_minor": 0,
       "model_id": "27d7f9e8a0514d4ab00df3074f975695"
      }
     },
     "metadata": {}
    },
    {
     "output_type": "stream",
     "name": "stdout",
     "text": [
      "\n",
      "[TRAIN] Epoch 025 // (avg) Loss : 1.025, Accuracy : 0.646, F1 : 0.503\n"
     ]
    },
    {
     "output_type": "display_data",
     "data": {
      "text/plain": [
       "HBox(children=(HTML(value=''), FloatProgress(value=0.0, max=119.0), HTML(value='')))"
      ],
      "application/vnd.jupyter.widget-view+json": {
       "version_major": 2,
       "version_minor": 0,
       "model_id": "ecc1aee4d2fb49aca052b81257fdc36f"
      }
     },
     "metadata": {}
    },
    {
     "output_type": "stream",
     "name": "stdout",
     "text": [
      "\n",
      "[TEST ] Epoch 025 // (avg) Loss : 0.860, Accuracy : 0.808, F1 : 0.659\n"
     ]
    },
    {
     "output_type": "display_data",
     "data": {
      "text/plain": [
       "HBox(children=(HTML(value=''), FloatProgress(value=0.0, max=473.0), HTML(value='')))"
      ],
      "application/vnd.jupyter.widget-view+json": {
       "version_major": 2,
       "version_minor": 0,
       "model_id": "af983e313ee84832813f3a1301bc27aa"
      }
     },
     "metadata": {}
    },
    {
     "output_type": "stream",
     "name": "stdout",
     "text": [
      "\n",
      "[TRAIN] Epoch 026 // (avg) Loss : 1.009, Accuracy : 0.656, F1 : 0.513\n"
     ]
    },
    {
     "output_type": "display_data",
     "data": {
      "text/plain": [
       "HBox(children=(HTML(value=''), FloatProgress(value=0.0, max=119.0), HTML(value='')))"
      ],
      "application/vnd.jupyter.widget-view+json": {
       "version_major": 2,
       "version_minor": 0,
       "model_id": "62fcef1acbaf47b4b1fce8f14c54e83a"
      }
     },
     "metadata": {}
    },
    {
     "output_type": "stream",
     "name": "stdout",
     "text": [
      "\n",
      "[TEST ] Epoch 026 // (avg) Loss : 0.859, Accuracy : 0.810, F1 : 0.668\n"
     ]
    },
    {
     "output_type": "display_data",
     "data": {
      "text/plain": [
       "HBox(children=(HTML(value=''), FloatProgress(value=0.0, max=473.0), HTML(value='')))"
      ],
      "application/vnd.jupyter.widget-view+json": {
       "version_major": 2,
       "version_minor": 0,
       "model_id": "4b58bd7752274518a62d7e9c184f9895"
      }
     },
     "metadata": {}
    },
    {
     "output_type": "stream",
     "name": "stdout",
     "text": [
      "\n",
      "[TRAIN] Epoch 027 // (avg) Loss : 0.987, Accuracy : 0.661, F1 : 0.518\n"
     ]
    },
    {
     "output_type": "display_data",
     "data": {
      "text/plain": [
       "HBox(children=(HTML(value=''), FloatProgress(value=0.0, max=119.0), HTML(value='')))"
      ],
      "application/vnd.jupyter.widget-view+json": {
       "version_major": 2,
       "version_minor": 0,
       "model_id": "7dbe9425753c410ab914b83d510c68b9"
      }
     },
     "metadata": {}
    },
    {
     "output_type": "stream",
     "name": "stdout",
     "text": [
      "\n",
      "[TEST ] Epoch 027 // (avg) Loss : 0.864, Accuracy : 0.813, F1 : 0.673\n"
     ]
    },
    {
     "output_type": "display_data",
     "data": {
      "text/plain": [
       "HBox(children=(HTML(value=''), FloatProgress(value=0.0, max=473.0), HTML(value='')))"
      ],
      "application/vnd.jupyter.widget-view+json": {
       "version_major": 2,
       "version_minor": 0,
       "model_id": "5260900ecd524f8b9baf85929ad76bc0"
      }
     },
     "metadata": {}
    },
    {
     "output_type": "stream",
     "name": "stdout",
     "text": [
      "\n",
      "[TRAIN] Epoch 028 // (avg) Loss : 0.975, Accuracy : 0.666, F1 : 0.523\n"
     ]
    },
    {
     "output_type": "display_data",
     "data": {
      "text/plain": [
       "HBox(children=(HTML(value=''), FloatProgress(value=0.0, max=119.0), HTML(value='')))"
      ],
      "application/vnd.jupyter.widget-view+json": {
       "version_major": 2,
       "version_minor": 0,
       "model_id": "af24a3ac1c984b57b497897de3f17aed"
      }
     },
     "metadata": {}
    },
    {
     "output_type": "stream",
     "name": "stdout",
     "text": [
      "\n",
      "[TEST ] Epoch 028 // (avg) Loss : 0.831, Accuracy : 0.822, F1 : 0.688\n"
     ]
    },
    {
     "output_type": "display_data",
     "data": {
      "text/plain": [
       "HBox(children=(HTML(value=''), FloatProgress(value=0.0, max=473.0), HTML(value='')))"
      ],
      "application/vnd.jupyter.widget-view+json": {
       "version_major": 2,
       "version_minor": 0,
       "model_id": "93bc839993c14c74a41d5bbe95ef5ecc"
      }
     },
     "metadata": {}
    },
    {
     "output_type": "stream",
     "name": "stdout",
     "text": [
      "\n",
      "[TRAIN] Epoch 029 // (avg) Loss : 0.963, Accuracy : 0.668, F1 : 0.525\n"
     ]
    },
    {
     "output_type": "display_data",
     "data": {
      "text/plain": [
       "HBox(children=(HTML(value=''), FloatProgress(value=0.0, max=119.0), HTML(value='')))"
      ],
      "application/vnd.jupyter.widget-view+json": {
       "version_major": 2,
       "version_minor": 0,
       "model_id": "26005e2298bb46a9807ffa9be3790c7d"
      }
     },
     "metadata": {}
    },
    {
     "output_type": "stream",
     "name": "stdout",
     "text": [
      "\n",
      "[TEST ] Epoch 029 // (avg) Loss : 0.828, Accuracy : 0.822, F1 : 0.687\n",
      "\n",
      "\n",
      "\n",
      "################################################################################\n",
      ":::학습종료:::\n",
      "최고 accuracy : 0.82222, 최저 loss : 0.82838, 최고 F1 : 0.68847\n",
      "################################################################################\n"
     ]
    }
   ],
   "metadata": {}
  },
  {
   "cell_type": "code",
   "execution_count": null,
   "source": [
    "class TestDataset(Dataset):\n",
    "    def __init__(self, img_paths, transform):\n",
    "        self.img_paths = img_paths\n",
    "        self.transform = transform\n",
    "\n",
    "    def __getitem__(self, index):\n",
    "        image = Image.open(self.img_paths[index])\n",
    "\n",
    "        if self.transform:\n",
    "            image = self.transform(image)\n",
    "        return image\n",
    "\n",
    "    def __len__(self):\n",
    "        return len(self.img_paths)\n",
    "\n",
    "# meta 데이터와 이미지 경로를 불러옵니다.\n",
    "submission = pd.read_csv(os.path.join(eval_dir, 'info.csv'))\n",
    "image_dir = os.path.join(eval_dir, 'images')\n",
    "\n",
    "# Test Dataset 클래스 객체를 생성하고 DataLoader를 만듭니다.\n",
    "image_paths = [os.path.join(image_dir, img_id) for img_id in submission.ImageID]\n",
    "transform = transforms.Compose([\n",
    "    transforms.Resize((512, 384), Image.BILINEAR),\n",
    "    # transforms.CenterCrop(300),\n",
    "    transforms.ToTensor(),\n",
    "    transforms.Normalize(mean=(0.5, 0.5, 0.5), std=(0.2, 0.2, 0.2)),\n",
    "])\n",
    "dataset = TestDataset(image_paths, transform)\n",
    "\n",
    "loader = DataLoader(\n",
    "    dataset,\n",
    "    shuffle=False\n",
    ")\n",
    "\n",
    "# 모델을 정의합니다. (학습한 모델이 있다면 torch.load로 모델을 불러주세요!)\n",
    "device = torch.device('cuda')\n",
    "model.eval()\n",
    "\n",
    "# 모델이 테스트 데이터셋을 예측하고 결과를 저장합니다.\n",
    "all_predictions = []\n",
    "for images in tqdm(loader):\n",
    "    with torch.no_grad():\n",
    "        images = images.to(device)\n",
    "        pred = model(images)\n",
    "        pred = pred.argmax(dim=-1)\n",
    "        all_predictions.extend(pred.cpu().numpy())\n",
    "submission['ans'] = all_predictions"
   ],
   "outputs": [
    {
     "output_type": "display_data",
     "data": {
      "text/plain": [
       "HBox(children=(HTML(value=''), FloatProgress(value=0.0, max=12600.0), HTML(value='')))"
      ],
      "application/vnd.jupyter.widget-view+json": {
       "version_major": 2,
       "version_minor": 0,
       "model_id": "9da66976e8874952b9d546e1545dc465"
      }
     },
     "metadata": {}
    },
    {
     "output_type": "stream",
     "name": "stdout",
     "text": [
      "\n"
     ]
    }
   ],
   "metadata": {}
  },
  {
   "cell_type": "code",
   "execution_count": null,
   "source": [
    "# 제출할 파일을 저장합니다.\n",
    "submission.to_csv(os.path.join(save_dir, f'{now}_result.csv'), index=False)\n",
    "log.append(f'test inference is done!')\n",
    "print(log[-1])\n",
    "log.append(c)\n",
    "print(log[-1])\n",
    "log.append(f'{c:-^80}')\n",
    "print(log[-1])\n",
    "log.append(c)\n",
    "print(log[-1])\n",
    "\n",
    "\n",
    "\n",
    "# log 저장\n",
    "with open(os.path.join(save_dir, f'{now}.log'), \"w\") as f:\n",
    "    now = (dt.datetime.now().astimezone(timezone(\"Asia/Seoul\")).strftime(\"%Y%m%d_%H%M%S\"))\n",
    "    log.append(f'Finish_Date    : {now}')\n",
    "    print(log[-1])\n",
    "    for line in log: \n",
    "        f.write(line+'\\n')"
   ],
   "outputs": [
    {
     "output_type": "stream",
     "name": "stdout",
     "text": [
      "test inference is done!\n",
      "\n",
      "--------------------------------------------------------------------------------\n",
      "\n",
      "Finish_Date    : 20210826_210245\n"
     ]
    }
   ],
   "metadata": {}
  },
  {
   "cell_type": "code",
   "execution_count": null,
   "source": [],
   "outputs": [],
   "metadata": {}
  }
 ],
 "metadata": {
  "interpreter": {
   "hash": "98b0a9b7b4eaaa670588a142fd0a9b87eaafe866f1db4228be72b4211d12040f"
  },
  "kernelspec": {
   "name": "python3",
   "display_name": "Python 3.8.5 64-bit ('base': conda)"
  },
  "language_info": {
   "codemirror_mode": {
    "name": "ipython",
    "version": 3
   },
   "file_extension": ".py",
   "mimetype": "text/x-python",
   "name": "python",
   "nbconvert_exporter": "python",
   "pygments_lexer": "ipython3",
   "version": "3.8.5"
  }
 },
 "nbformat": 4,
 "nbformat_minor": 5
}