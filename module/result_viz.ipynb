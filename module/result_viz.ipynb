{
    "cells": [
        {
            "cell_type": "code",
            "execution_count": 75,
            "source": [
                "import numpy as np\n",
                "import pandas as pd\n",
                "import matplotlib as mpl\n",
                "import matplotlib.pyplot as plt\n",
                "import seaborn as sns\n",
                "%matplotlib inline"
            ],
            "outputs": [],
            "metadata": {}
        },
        {
            "cell_type": "code",
            "execution_count": 76,
            "source": [
                "# base_csv_path = '/opt/ml/image-classification-level1-25/save/basic_resnet/20210826_173324_result.csv' #resnet 기본 40epoch 66%, 0.585 정도 나옴\n",
                "# base_csv_path = '/opt/ml/image-classification-level1-25/save/last_single/20210826_231731_result.csv' # simple albu + resnet 21+3epoch 75.75% 0.675\n",
                "# base_csv_path = '/opt/ml/image-classification-level1-25/save/last_single/20210827_003712_result.csv' # simple albu + resnet 21+3epoch + centercrop 77.5% 0.695\n",
                "base_csv_path = '/opt/ml/image-classification-level1-25/save/albu resnet/20210827_101341_result.csv' # random albu + resnet 40epoch + centercrop 77.1% 0.707\n",
                "cur_csv_path = '/opt/ml/image-classification-level1-25/save/basic_resnet/20210826_173324_result.csv'"
            ],
            "outputs": [],
            "metadata": {}
        },
        {
            "cell_type": "code",
            "execution_count": 77,
            "source": [
                "base_csv_path = '/opt/ml/image-classification-level1-25/save/20epoch_0.1978loss_teameval_0.7814/output.csv'\n",
                "base_csv_path = '/opt/ml/image-classification-level1-25/save/20epoch_0.1978loss_teameval_0.7814/TTA_output.csv'\n",
                "cur_csv_path = '/opt/ml/image-classification-level1-25/save/20epoch_0.1978loss_teameval_0.7814/sTTA_output.csv'"
            ],
            "outputs": [],
            "metadata": {}
        },
        {
            "cell_type": "code",
            "execution_count": 78,
            "source": [
                "base_df = pd.read_csv(base_csv_path)\n",
                "cur_df = pd.read_csv(cur_csv_path)\n",
                "\n",
                "fig, axes = plt.subplots(1, 2, sharex=True, sharey=True, figsize=(12, 6))\n",
                "sns.countplot(x='ans', data=base_df, ax=axes[0]).set_xlim(-1,18)\n",
                "sns.countplot(x='ans', data=cur_df, ax=axes[1]).set_xlim(-1,18)"
            ],
            "outputs": [
                {
                    "output_type": "execute_result",
                    "data": {
                        "text/plain": [
                            "(-1.0, 18.0)"
                        ]
                    },
                    "metadata": {},
                    "execution_count": 78
                },
                {
                    "output_type": "display_data",
                    "data": {
                        "text/plain": [
                            "<Figure size 864x432 with 2 Axes>"
                        ],
                        "image/svg+xml": "<?xml version=\"1.0\" encoding=\"utf-8\" standalone=\"no\"?>\n<!DOCTYPE svg PUBLIC \"-//W3C//DTD SVG 1.1//EN\"\n  \"http://www.w3.org/Graphics/SVG/1.1/DTD/svg11.dtd\">\n<!-- Created with matplotlib (https://matplotlib.org/) -->\n<svg height=\"370.91625pt\" version=\"1.1\" viewBox=\"0 0 730.128125 370.91625\" width=\"730.128125pt\" xmlns=\"http://www.w3.org/2000/svg\" xmlns:xlink=\"http://www.w3.org/1999/xlink\">\n <defs>\n  <style type=\"text/css\">\n*{stroke-linecap:butt;stroke-linejoin:round;}\n  </style>\n </defs>\n <g id=\"figure_1\">\n  <g id=\"patch_1\">\n   <path d=\"M 0 370.91625 \nL 730.128125 370.91625 \nL 730.128125 0 \nL 0 0 \nz\n\" style=\"fill:none;\"/>\n  </g>\n  <g id=\"axes_1\">\n   <g id=\"patch_2\">\n    <path d=\"M 53.328125 333.36 \nL 357.691761 333.36 \nL 357.691761 7.2 \nL 53.328125 7.2 \nz\n\" style=\"fill:#ffffff;\"/>\n   </g>\n   <g id=\"patch_3\">\n    <path clip-path=\"url(#p78012e0e07)\" d=\"M 62.939608 333.36 \nL 75.754919 333.36 \nL 75.754919 22.731429 \nL 62.939608 22.731429 \nz\n\" style=\"fill:#ea96a3;\"/>\n   </g>\n   <g id=\"patch_4\">\n    <path clip-path=\"url(#p78012e0e07)\" d=\"M 78.958747 333.36 \nL 91.774058 333.36 \nL 91.774058 47.480938 \nL 78.958747 47.480938 \nz\n\" style=\"fill:#e7957e;\"/>\n   </g>\n   <g id=\"patch_5\">\n    <path clip-path=\"url(#p78012e0e07)\" d=\"M 94.977886 333.36 \nL 107.793197 333.36 \nL 107.793197 159.817034 \nL 94.977886 159.817034 \nz\n\" style=\"fill:#d1964d;\"/>\n   </g>\n   <g id=\"patch_6\">\n    <path clip-path=\"url(#p78012e0e07)\" d=\"M 110.997025 333.36 \nL 123.812336 333.36 \nL 123.812336 67.488026 \nL 110.997025 67.488026 \nz\n\" style=\"fill:#b89c49;\"/>\n   </g>\n   <g id=\"patch_7\">\n    <path clip-path=\"url(#p78012e0e07)\" d=\"M 127.016163 333.36 \nL 139.831474 333.36 \nL 139.831474 68.970033 \nL 127.016163 68.970033 \nz\n\" style=\"fill:#a29f46;\"/>\n   </g>\n   <g id=\"patch_8\">\n    <path clip-path=\"url(#p78012e0e07)\" d=\"M 143.035302 333.36 \nL 155.850613 333.36 \nL 155.850613 302.830665 \nL 143.035302 302.830665 \nz\n\" style=\"fill:#8ca646;\"/>\n   </g>\n   <g id=\"patch_9\">\n    <path clip-path=\"url(#p78012e0e07)\" d=\"M 159.054441 333.36 \nL 171.869752 333.36 \nL 171.869752 268.003511 \nL 159.054441 268.003511 \nz\n\" style=\"fill:#60ae47;\"/>\n   </g>\n   <g id=\"patch_10\">\n    <path clip-path=\"url(#p78012e0e07)\" d=\"M 175.07358 333.36 \nL 187.888891 333.36 \nL 187.888891 256.29566 \nL 175.07358 256.29566 \nz\n\" style=\"fill:#49af7c;\"/>\n   </g>\n   <g id=\"patch_11\">\n    <path clip-path=\"url(#p78012e0e07)\" d=\"M 191.092718 333.36 \nL 203.908029 333.36 \nL 203.908029 314.834918 \nL 191.092718 314.834918 \nz\n\" style=\"fill:#4aad95;\"/>\n   </g>\n   <g id=\"patch_12\">\n    <path clip-path=\"url(#p78012e0e07)\" d=\"M 207.111857 333.36 \nL 219.927168 333.36 \nL 219.927168 283.416379 \nL 207.111857 283.416379 \nz\n\" style=\"fill:#4baba4;\"/>\n   </g>\n   <g id=\"patch_13\">\n    <path clip-path=\"url(#p78012e0e07)\" d=\"M 223.130996 333.36 \nL 235.946307 333.36 \nL 235.946307 282.823577 \nL 223.130996 282.823577 \nz\n\" style=\"fill:#4dabb3;\"/>\n   </g>\n   <g id=\"patch_14\">\n    <path clip-path=\"url(#p78012e0e07)\" d=\"M 239.150135 333.36 \nL 251.965446 333.36 \nL 251.965446 326.098168 \nL 239.150135 326.098168 \nz\n\" style=\"fill:#51acc7;\"/>\n   </g>\n   <g id=\"patch_15\">\n    <path clip-path=\"url(#p78012e0e07)\" d=\"M 255.169273 333.36 \nL 267.984584 333.36 \nL 267.984584 265.928702 \nL 255.169273 265.928702 \nz\n\" style=\"fill:#6daee2;\"/>\n   </g>\n   <g id=\"patch_16\">\n    <path clip-path=\"url(#p78012e0e07)\" d=\"M 271.188412 333.36 \nL 284.003723 333.36 \nL 284.003723 258.815071 \nL 271.188412 258.815071 \nz\n\" style=\"fill:#a6acea;\"/>\n   </g>\n   <g id=\"patch_17\">\n    <path clip-path=\"url(#p78012e0e07)\" d=\"M 287.207551 333.36 \nL 300.022862 333.36 \nL 300.022862 312.90831 \nL 287.207551 312.90831 \nz\n\" style=\"fill:#c4a1ea;\"/>\n   </g>\n   <g id=\"patch_18\">\n    <path clip-path=\"url(#p78012e0e07)\" d=\"M 303.22669 333.36 \nL 316.042001 333.36 \nL 316.042001 281.637972 \nL 303.22669 281.637972 \nz\n\" style=\"fill:#df8fe7;\"/>\n   </g>\n   <g id=\"patch_19\">\n    <path clip-path=\"url(#p78012e0e07)\" d=\"M 319.245828 333.36 \nL 332.061139 333.36 \nL 332.061139 284.453784 \nL 319.245828 284.453784 \nz\n\" style=\"fill:#e88ed1;\"/>\n   </g>\n   <g id=\"patch_20\">\n    <path clip-path=\"url(#p78012e0e07)\" d=\"M 335.264967 333.36 \nL 348.080278 333.36 \nL 348.080278 328.617579 \nL 335.264967 328.617579 \nz\n\" style=\"fill:#e992bb;\"/>\n   </g>\n   <g id=\"matplotlib.axis_1\">\n    <g id=\"xtick_1\">\n     <g id=\"line2d_1\">\n      <defs>\n       <path d=\"M 0 0 \nL 0 3.5 \n\" id=\"mf3e2fb5137\" style=\"stroke:#000000;stroke-width:0.8;\"/>\n      </defs>\n      <g>\n       <use style=\"stroke:#000000;stroke-width:0.8;\" x=\"69.347264\" xlink:href=\"#mf3e2fb5137\" y=\"333.36\"/>\n      </g>\n     </g>\n     <g id=\"text_1\">\n      <!-- 0 -->\n      <defs>\n       <path d=\"M 31.78125 66.40625 \nQ 24.171875 66.40625 20.328125 58.90625 \nQ 16.5 51.421875 16.5 36.375 \nQ 16.5 21.390625 20.328125 13.890625 \nQ 24.171875 6.390625 31.78125 6.390625 \nQ 39.453125 6.390625 43.28125 13.890625 \nQ 47.125 21.390625 47.125 36.375 \nQ 47.125 51.421875 43.28125 58.90625 \nQ 39.453125 66.40625 31.78125 66.40625 \nz\nM 31.78125 74.21875 \nQ 44.046875 74.21875 50.515625 64.515625 \nQ 56.984375 54.828125 56.984375 36.375 \nQ 56.984375 17.96875 50.515625 8.265625 \nQ 44.046875 -1.421875 31.78125 -1.421875 \nQ 19.53125 -1.421875 13.0625 8.265625 \nQ 6.59375 17.96875 6.59375 36.375 \nQ 6.59375 54.828125 13.0625 64.515625 \nQ 19.53125 74.21875 31.78125 74.21875 \nz\n\" id=\"DejaVuSans-48\"/>\n      </defs>\n      <g transform=\"translate(66.166014 347.958438)scale(0.1 -0.1)\">\n       <use xlink:href=\"#DejaVuSans-48\"/>\n      </g>\n     </g>\n    </g>\n    <g id=\"xtick_2\">\n     <g id=\"line2d_2\">\n      <g>\n       <use style=\"stroke:#000000;stroke-width:0.8;\" x=\"85.366403\" xlink:href=\"#mf3e2fb5137\" y=\"333.36\"/>\n      </g>\n     </g>\n     <g id=\"text_2\">\n      <!-- 1 -->\n      <defs>\n       <path d=\"M 12.40625 8.296875 \nL 28.515625 8.296875 \nL 28.515625 63.921875 \nL 10.984375 60.40625 \nL 10.984375 69.390625 \nL 28.421875 72.90625 \nL 38.28125 72.90625 \nL 38.28125 8.296875 \nL 54.390625 8.296875 \nL 54.390625 0 \nL 12.40625 0 \nz\n\" id=\"DejaVuSans-49\"/>\n      </defs>\n      <g transform=\"translate(82.185153 347.958438)scale(0.1 -0.1)\">\n       <use xlink:href=\"#DejaVuSans-49\"/>\n      </g>\n     </g>\n    </g>\n    <g id=\"xtick_3\">\n     <g id=\"line2d_3\">\n      <g>\n       <use style=\"stroke:#000000;stroke-width:0.8;\" x=\"101.385541\" xlink:href=\"#mf3e2fb5137\" y=\"333.36\"/>\n      </g>\n     </g>\n     <g id=\"text_3\">\n      <!-- 2 -->\n      <defs>\n       <path d=\"M 19.1875 8.296875 \nL 53.609375 8.296875 \nL 53.609375 0 \nL 7.328125 0 \nL 7.328125 8.296875 \nQ 12.9375 14.109375 22.625 23.890625 \nQ 32.328125 33.6875 34.8125 36.53125 \nQ 39.546875 41.84375 41.421875 45.53125 \nQ 43.3125 49.21875 43.3125 52.78125 \nQ 43.3125 58.59375 39.234375 62.25 \nQ 35.15625 65.921875 28.609375 65.921875 \nQ 23.96875 65.921875 18.8125 64.3125 \nQ 13.671875 62.703125 7.8125 59.421875 \nL 7.8125 69.390625 \nQ 13.765625 71.78125 18.9375 73 \nQ 24.125 74.21875 28.421875 74.21875 \nQ 39.75 74.21875 46.484375 68.546875 \nQ 53.21875 62.890625 53.21875 53.421875 \nQ 53.21875 48.921875 51.53125 44.890625 \nQ 49.859375 40.875 45.40625 35.40625 \nQ 44.1875 33.984375 37.640625 27.21875 \nQ 31.109375 20.453125 19.1875 8.296875 \nz\n\" id=\"DejaVuSans-50\"/>\n      </defs>\n      <g transform=\"translate(98.204291 347.958438)scale(0.1 -0.1)\">\n       <use xlink:href=\"#DejaVuSans-50\"/>\n      </g>\n     </g>\n    </g>\n    <g id=\"xtick_4\">\n     <g id=\"line2d_4\">\n      <g>\n       <use style=\"stroke:#000000;stroke-width:0.8;\" x=\"117.40468\" xlink:href=\"#mf3e2fb5137\" y=\"333.36\"/>\n      </g>\n     </g>\n     <g id=\"text_4\">\n      <!-- 3 -->\n      <defs>\n       <path d=\"M 40.578125 39.3125 \nQ 47.65625 37.796875 51.625 33 \nQ 55.609375 28.21875 55.609375 21.1875 \nQ 55.609375 10.40625 48.1875 4.484375 \nQ 40.765625 -1.421875 27.09375 -1.421875 \nQ 22.515625 -1.421875 17.65625 -0.515625 \nQ 12.796875 0.390625 7.625 2.203125 \nL 7.625 11.71875 \nQ 11.71875 9.328125 16.59375 8.109375 \nQ 21.484375 6.890625 26.8125 6.890625 \nQ 36.078125 6.890625 40.9375 10.546875 \nQ 45.796875 14.203125 45.796875 21.1875 \nQ 45.796875 27.640625 41.28125 31.265625 \nQ 36.765625 34.90625 28.71875 34.90625 \nL 20.21875 34.90625 \nL 20.21875 43.015625 \nL 29.109375 43.015625 \nQ 36.375 43.015625 40.234375 45.921875 \nQ 44.09375 48.828125 44.09375 54.296875 \nQ 44.09375 59.90625 40.109375 62.90625 \nQ 36.140625 65.921875 28.71875 65.921875 \nQ 24.65625 65.921875 20.015625 65.03125 \nQ 15.375 64.15625 9.8125 62.3125 \nL 9.8125 71.09375 \nQ 15.4375 72.65625 20.34375 73.4375 \nQ 25.25 74.21875 29.59375 74.21875 \nQ 40.828125 74.21875 47.359375 69.109375 \nQ 53.90625 64.015625 53.90625 55.328125 \nQ 53.90625 49.265625 50.4375 45.09375 \nQ 46.96875 40.921875 40.578125 39.3125 \nz\n\" id=\"DejaVuSans-51\"/>\n      </defs>\n      <g transform=\"translate(114.22343 347.958438)scale(0.1 -0.1)\">\n       <use xlink:href=\"#DejaVuSans-51\"/>\n      </g>\n     </g>\n    </g>\n    <g id=\"xtick_5\">\n     <g id=\"line2d_5\">\n      <g>\n       <use style=\"stroke:#000000;stroke-width:0.8;\" x=\"133.423819\" xlink:href=\"#mf3e2fb5137\" y=\"333.36\"/>\n      </g>\n     </g>\n     <g id=\"text_5\">\n      <!-- 4 -->\n      <defs>\n       <path d=\"M 37.796875 64.3125 \nL 12.890625 25.390625 \nL 37.796875 25.390625 \nz\nM 35.203125 72.90625 \nL 47.609375 72.90625 \nL 47.609375 25.390625 \nL 58.015625 25.390625 \nL 58.015625 17.1875 \nL 47.609375 17.1875 \nL 47.609375 0 \nL 37.796875 0 \nL 37.796875 17.1875 \nL 4.890625 17.1875 \nL 4.890625 26.703125 \nz\n\" id=\"DejaVuSans-52\"/>\n      </defs>\n      <g transform=\"translate(130.242569 347.958438)scale(0.1 -0.1)\">\n       <use xlink:href=\"#DejaVuSans-52\"/>\n      </g>\n     </g>\n    </g>\n    <g id=\"xtick_6\">\n     <g id=\"line2d_6\">\n      <g>\n       <use style=\"stroke:#000000;stroke-width:0.8;\" x=\"149.442958\" xlink:href=\"#mf3e2fb5137\" y=\"333.36\"/>\n      </g>\n     </g>\n     <g id=\"text_6\">\n      <!-- 5 -->\n      <defs>\n       <path d=\"M 10.796875 72.90625 \nL 49.515625 72.90625 \nL 49.515625 64.59375 \nL 19.828125 64.59375 \nL 19.828125 46.734375 \nQ 21.96875 47.46875 24.109375 47.828125 \nQ 26.265625 48.1875 28.421875 48.1875 \nQ 40.625 48.1875 47.75 41.5 \nQ 54.890625 34.8125 54.890625 23.390625 \nQ 54.890625 11.625 47.5625 5.09375 \nQ 40.234375 -1.421875 26.90625 -1.421875 \nQ 22.3125 -1.421875 17.546875 -0.640625 \nQ 12.796875 0.140625 7.71875 1.703125 \nL 7.71875 11.625 \nQ 12.109375 9.234375 16.796875 8.0625 \nQ 21.484375 6.890625 26.703125 6.890625 \nQ 35.15625 6.890625 40.078125 11.328125 \nQ 45.015625 15.765625 45.015625 23.390625 \nQ 45.015625 31 40.078125 35.4375 \nQ 35.15625 39.890625 26.703125 39.890625 \nQ 22.75 39.890625 18.8125 39.015625 \nQ 14.890625 38.140625 10.796875 36.28125 \nz\n\" id=\"DejaVuSans-53\"/>\n      </defs>\n      <g transform=\"translate(146.261708 347.958438)scale(0.1 -0.1)\">\n       <use xlink:href=\"#DejaVuSans-53\"/>\n      </g>\n     </g>\n    </g>\n    <g id=\"xtick_7\">\n     <g id=\"line2d_7\">\n      <g>\n       <use style=\"stroke:#000000;stroke-width:0.8;\" x=\"165.462096\" xlink:href=\"#mf3e2fb5137\" y=\"333.36\"/>\n      </g>\n     </g>\n     <g id=\"text_7\">\n      <!-- 6 -->\n      <defs>\n       <path d=\"M 33.015625 40.375 \nQ 26.375 40.375 22.484375 35.828125 \nQ 18.609375 31.296875 18.609375 23.390625 \nQ 18.609375 15.53125 22.484375 10.953125 \nQ 26.375 6.390625 33.015625 6.390625 \nQ 39.65625 6.390625 43.53125 10.953125 \nQ 47.40625 15.53125 47.40625 23.390625 \nQ 47.40625 31.296875 43.53125 35.828125 \nQ 39.65625 40.375 33.015625 40.375 \nz\nM 52.59375 71.296875 \nL 52.59375 62.3125 \nQ 48.875 64.0625 45.09375 64.984375 \nQ 41.3125 65.921875 37.59375 65.921875 \nQ 27.828125 65.921875 22.671875 59.328125 \nQ 17.53125 52.734375 16.796875 39.40625 \nQ 19.671875 43.65625 24.015625 45.921875 \nQ 28.375 48.1875 33.59375 48.1875 \nQ 44.578125 48.1875 50.953125 41.515625 \nQ 57.328125 34.859375 57.328125 23.390625 \nQ 57.328125 12.15625 50.6875 5.359375 \nQ 44.046875 -1.421875 33.015625 -1.421875 \nQ 20.359375 -1.421875 13.671875 8.265625 \nQ 6.984375 17.96875 6.984375 36.375 \nQ 6.984375 53.65625 15.1875 63.9375 \nQ 23.390625 74.21875 37.203125 74.21875 \nQ 40.921875 74.21875 44.703125 73.484375 \nQ 48.484375 72.75 52.59375 71.296875 \nz\n\" id=\"DejaVuSans-54\"/>\n      </defs>\n      <g transform=\"translate(162.280846 347.958438)scale(0.1 -0.1)\">\n       <use xlink:href=\"#DejaVuSans-54\"/>\n      </g>\n     </g>\n    </g>\n    <g id=\"xtick_8\">\n     <g id=\"line2d_8\">\n      <g>\n       <use style=\"stroke:#000000;stroke-width:0.8;\" x=\"181.481235\" xlink:href=\"#mf3e2fb5137\" y=\"333.36\"/>\n      </g>\n     </g>\n     <g id=\"text_8\">\n      <!-- 7 -->\n      <defs>\n       <path d=\"M 8.203125 72.90625 \nL 55.078125 72.90625 \nL 55.078125 68.703125 \nL 28.609375 0 \nL 18.3125 0 \nL 43.21875 64.59375 \nL 8.203125 64.59375 \nz\n\" id=\"DejaVuSans-55\"/>\n      </defs>\n      <g transform=\"translate(178.299985 347.958438)scale(0.1 -0.1)\">\n       <use xlink:href=\"#DejaVuSans-55\"/>\n      </g>\n     </g>\n    </g>\n    <g id=\"xtick_9\">\n     <g id=\"line2d_9\">\n      <g>\n       <use style=\"stroke:#000000;stroke-width:0.8;\" x=\"197.500374\" xlink:href=\"#mf3e2fb5137\" y=\"333.36\"/>\n      </g>\n     </g>\n     <g id=\"text_9\">\n      <!-- 8 -->\n      <defs>\n       <path d=\"M 31.78125 34.625 \nQ 24.75 34.625 20.71875 30.859375 \nQ 16.703125 27.09375 16.703125 20.515625 \nQ 16.703125 13.921875 20.71875 10.15625 \nQ 24.75 6.390625 31.78125 6.390625 \nQ 38.8125 6.390625 42.859375 10.171875 \nQ 46.921875 13.96875 46.921875 20.515625 \nQ 46.921875 27.09375 42.890625 30.859375 \nQ 38.875 34.625 31.78125 34.625 \nz\nM 21.921875 38.8125 \nQ 15.578125 40.375 12.03125 44.71875 \nQ 8.5 49.078125 8.5 55.328125 \nQ 8.5 64.0625 14.71875 69.140625 \nQ 20.953125 74.21875 31.78125 74.21875 \nQ 42.671875 74.21875 48.875 69.140625 \nQ 55.078125 64.0625 55.078125 55.328125 \nQ 55.078125 49.078125 51.53125 44.71875 \nQ 48 40.375 41.703125 38.8125 \nQ 48.828125 37.15625 52.796875 32.3125 \nQ 56.78125 27.484375 56.78125 20.515625 \nQ 56.78125 9.90625 50.3125 4.234375 \nQ 43.84375 -1.421875 31.78125 -1.421875 \nQ 19.734375 -1.421875 13.25 4.234375 \nQ 6.78125 9.90625 6.78125 20.515625 \nQ 6.78125 27.484375 10.78125 32.3125 \nQ 14.796875 37.15625 21.921875 38.8125 \nz\nM 18.3125 54.390625 \nQ 18.3125 48.734375 21.84375 45.5625 \nQ 25.390625 42.390625 31.78125 42.390625 \nQ 38.140625 42.390625 41.71875 45.5625 \nQ 45.3125 48.734375 45.3125 54.390625 \nQ 45.3125 60.0625 41.71875 63.234375 \nQ 38.140625 66.40625 31.78125 66.40625 \nQ 25.390625 66.40625 21.84375 63.234375 \nQ 18.3125 60.0625 18.3125 54.390625 \nz\n\" id=\"DejaVuSans-56\"/>\n      </defs>\n      <g transform=\"translate(194.319124 347.958438)scale(0.1 -0.1)\">\n       <use xlink:href=\"#DejaVuSans-56\"/>\n      </g>\n     </g>\n    </g>\n    <g id=\"xtick_10\">\n     <g id=\"line2d_10\">\n      <g>\n       <use style=\"stroke:#000000;stroke-width:0.8;\" x=\"213.519513\" xlink:href=\"#mf3e2fb5137\" y=\"333.36\"/>\n      </g>\n     </g>\n     <g id=\"text_10\">\n      <!-- 9 -->\n      <defs>\n       <path d=\"M 10.984375 1.515625 \nL 10.984375 10.5 \nQ 14.703125 8.734375 18.5 7.8125 \nQ 22.3125 6.890625 25.984375 6.890625 \nQ 35.75 6.890625 40.890625 13.453125 \nQ 46.046875 20.015625 46.78125 33.40625 \nQ 43.953125 29.203125 39.59375 26.953125 \nQ 35.25 24.703125 29.984375 24.703125 \nQ 19.046875 24.703125 12.671875 31.3125 \nQ 6.296875 37.9375 6.296875 49.421875 \nQ 6.296875 60.640625 12.9375 67.421875 \nQ 19.578125 74.21875 30.609375 74.21875 \nQ 43.265625 74.21875 49.921875 64.515625 \nQ 56.59375 54.828125 56.59375 36.375 \nQ 56.59375 19.140625 48.40625 8.859375 \nQ 40.234375 -1.421875 26.421875 -1.421875 \nQ 22.703125 -1.421875 18.890625 -0.6875 \nQ 15.09375 0.046875 10.984375 1.515625 \nz\nM 30.609375 32.421875 \nQ 37.25 32.421875 41.125 36.953125 \nQ 45.015625 41.5 45.015625 49.421875 \nQ 45.015625 57.28125 41.125 61.84375 \nQ 37.25 66.40625 30.609375 66.40625 \nQ 23.96875 66.40625 20.09375 61.84375 \nQ 16.21875 57.28125 16.21875 49.421875 \nQ 16.21875 41.5 20.09375 36.953125 \nQ 23.96875 32.421875 30.609375 32.421875 \nz\n\" id=\"DejaVuSans-57\"/>\n      </defs>\n      <g transform=\"translate(210.338263 347.958438)scale(0.1 -0.1)\">\n       <use xlink:href=\"#DejaVuSans-57\"/>\n      </g>\n     </g>\n    </g>\n    <g id=\"xtick_11\">\n     <g id=\"line2d_11\">\n      <g>\n       <use style=\"stroke:#000000;stroke-width:0.8;\" x=\"229.538651\" xlink:href=\"#mf3e2fb5137\" y=\"333.36\"/>\n      </g>\n     </g>\n     <g id=\"text_11\">\n      <!-- 10 -->\n      <g transform=\"translate(223.176151 347.958438)scale(0.1 -0.1)\">\n       <use xlink:href=\"#DejaVuSans-49\"/>\n       <use x=\"63.623047\" xlink:href=\"#DejaVuSans-48\"/>\n      </g>\n     </g>\n    </g>\n    <g id=\"xtick_12\">\n     <g id=\"line2d_12\">\n      <g>\n       <use style=\"stroke:#000000;stroke-width:0.8;\" x=\"245.55779\" xlink:href=\"#mf3e2fb5137\" y=\"333.36\"/>\n      </g>\n     </g>\n     <g id=\"text_12\">\n      <!-- 11 -->\n      <g transform=\"translate(239.19529 347.958438)scale(0.1 -0.1)\">\n       <use xlink:href=\"#DejaVuSans-49\"/>\n       <use x=\"63.623047\" xlink:href=\"#DejaVuSans-49\"/>\n      </g>\n     </g>\n    </g>\n    <g id=\"xtick_13\">\n     <g id=\"line2d_13\">\n      <g>\n       <use style=\"stroke:#000000;stroke-width:0.8;\" x=\"261.576929\" xlink:href=\"#mf3e2fb5137\" y=\"333.36\"/>\n      </g>\n     </g>\n     <g id=\"text_13\">\n      <!-- 12 -->\n      <g transform=\"translate(255.214429 347.958438)scale(0.1 -0.1)\">\n       <use xlink:href=\"#DejaVuSans-49\"/>\n       <use x=\"63.623047\" xlink:href=\"#DejaVuSans-50\"/>\n      </g>\n     </g>\n    </g>\n    <g id=\"xtick_14\">\n     <g id=\"line2d_14\">\n      <g>\n       <use style=\"stroke:#000000;stroke-width:0.8;\" x=\"277.596068\" xlink:href=\"#mf3e2fb5137\" y=\"333.36\"/>\n      </g>\n     </g>\n     <g id=\"text_14\">\n      <!-- 13 -->\n      <g transform=\"translate(271.233568 347.958438)scale(0.1 -0.1)\">\n       <use xlink:href=\"#DejaVuSans-49\"/>\n       <use x=\"63.623047\" xlink:href=\"#DejaVuSans-51\"/>\n      </g>\n     </g>\n    </g>\n    <g id=\"xtick_15\">\n     <g id=\"line2d_15\">\n      <g>\n       <use style=\"stroke:#000000;stroke-width:0.8;\" x=\"293.615206\" xlink:href=\"#mf3e2fb5137\" y=\"333.36\"/>\n      </g>\n     </g>\n     <g id=\"text_15\">\n      <!-- 14 -->\n      <g transform=\"translate(287.252706 347.958438)scale(0.1 -0.1)\">\n       <use xlink:href=\"#DejaVuSans-49\"/>\n       <use x=\"63.623047\" xlink:href=\"#DejaVuSans-52\"/>\n      </g>\n     </g>\n    </g>\n    <g id=\"xtick_16\">\n     <g id=\"line2d_16\">\n      <g>\n       <use style=\"stroke:#000000;stroke-width:0.8;\" x=\"309.634345\" xlink:href=\"#mf3e2fb5137\" y=\"333.36\"/>\n      </g>\n     </g>\n     <g id=\"text_16\">\n      <!-- 15 -->\n      <g transform=\"translate(303.271845 347.958438)scale(0.1 -0.1)\">\n       <use xlink:href=\"#DejaVuSans-49\"/>\n       <use x=\"63.623047\" xlink:href=\"#DejaVuSans-53\"/>\n      </g>\n     </g>\n    </g>\n    <g id=\"xtick_17\">\n     <g id=\"line2d_17\">\n      <g>\n       <use style=\"stroke:#000000;stroke-width:0.8;\" x=\"325.653484\" xlink:href=\"#mf3e2fb5137\" y=\"333.36\"/>\n      </g>\n     </g>\n     <g id=\"text_17\">\n      <!-- 16 -->\n      <g transform=\"translate(319.290984 347.958438)scale(0.1 -0.1)\">\n       <use xlink:href=\"#DejaVuSans-49\"/>\n       <use x=\"63.623047\" xlink:href=\"#DejaVuSans-54\"/>\n      </g>\n     </g>\n    </g>\n    <g id=\"xtick_18\">\n     <g id=\"line2d_18\">\n      <g>\n       <use style=\"stroke:#000000;stroke-width:0.8;\" x=\"341.672623\" xlink:href=\"#mf3e2fb5137\" y=\"333.36\"/>\n      </g>\n     </g>\n     <g id=\"text_18\">\n      <!-- 17 -->\n      <g transform=\"translate(335.310123 347.958438)scale(0.1 -0.1)\">\n       <use xlink:href=\"#DejaVuSans-49\"/>\n       <use x=\"63.623047\" xlink:href=\"#DejaVuSans-55\"/>\n      </g>\n     </g>\n    </g>\n    <g id=\"text_19\">\n     <!-- ans -->\n     <defs>\n      <path d=\"M 34.28125 27.484375 \nQ 23.390625 27.484375 19.1875 25 \nQ 14.984375 22.515625 14.984375 16.5 \nQ 14.984375 11.71875 18.140625 8.90625 \nQ 21.296875 6.109375 26.703125 6.109375 \nQ 34.1875 6.109375 38.703125 11.40625 \nQ 43.21875 16.703125 43.21875 25.484375 \nL 43.21875 27.484375 \nz\nM 52.203125 31.203125 \nL 52.203125 0 \nL 43.21875 0 \nL 43.21875 8.296875 \nQ 40.140625 3.328125 35.546875 0.953125 \nQ 30.953125 -1.421875 24.3125 -1.421875 \nQ 15.921875 -1.421875 10.953125 3.296875 \nQ 6 8.015625 6 15.921875 \nQ 6 25.140625 12.171875 29.828125 \nQ 18.359375 34.515625 30.609375 34.515625 \nL 43.21875 34.515625 \nL 43.21875 35.40625 \nQ 43.21875 41.609375 39.140625 45 \nQ 35.0625 48.390625 27.6875 48.390625 \nQ 23 48.390625 18.546875 47.265625 \nQ 14.109375 46.140625 10.015625 43.890625 \nL 10.015625 52.203125 \nQ 14.9375 54.109375 19.578125 55.046875 \nQ 24.21875 56 28.609375 56 \nQ 40.484375 56 46.34375 49.84375 \nQ 52.203125 43.703125 52.203125 31.203125 \nz\n\" id=\"DejaVuSans-97\"/>\n      <path d=\"M 54.890625 33.015625 \nL 54.890625 0 \nL 45.90625 0 \nL 45.90625 32.71875 \nQ 45.90625 40.484375 42.875 44.328125 \nQ 39.84375 48.1875 33.796875 48.1875 \nQ 26.515625 48.1875 22.3125 43.546875 \nQ 18.109375 38.921875 18.109375 30.90625 \nL 18.109375 0 \nL 9.078125 0 \nL 9.078125 54.6875 \nL 18.109375 54.6875 \nL 18.109375 46.1875 \nQ 21.34375 51.125 25.703125 53.5625 \nQ 30.078125 56 35.796875 56 \nQ 45.21875 56 50.046875 50.171875 \nQ 54.890625 44.34375 54.890625 33.015625 \nz\n\" id=\"DejaVuSans-110\"/>\n      <path d=\"M 44.28125 53.078125 \nL 44.28125 44.578125 \nQ 40.484375 46.53125 36.375 47.5 \nQ 32.28125 48.484375 27.875 48.484375 \nQ 21.1875 48.484375 17.84375 46.4375 \nQ 14.5 44.390625 14.5 40.28125 \nQ 14.5 37.15625 16.890625 35.375 \nQ 19.28125 33.59375 26.515625 31.984375 \nL 29.59375 31.296875 \nQ 39.15625 29.25 43.1875 25.515625 \nQ 47.21875 21.78125 47.21875 15.09375 \nQ 47.21875 7.46875 41.1875 3.015625 \nQ 35.15625 -1.421875 24.609375 -1.421875 \nQ 20.21875 -1.421875 15.453125 -0.5625 \nQ 10.6875 0.296875 5.421875 2 \nL 5.421875 11.28125 \nQ 10.40625 8.6875 15.234375 7.390625 \nQ 20.0625 6.109375 24.8125 6.109375 \nQ 31.15625 6.109375 34.5625 8.28125 \nQ 37.984375 10.453125 37.984375 14.40625 \nQ 37.984375 18.0625 35.515625 20.015625 \nQ 33.0625 21.96875 24.703125 23.78125 \nL 21.578125 24.515625 \nQ 13.234375 26.265625 9.515625 29.90625 \nQ 5.8125 33.546875 5.8125 39.890625 \nQ 5.8125 47.609375 11.28125 51.796875 \nQ 16.75 56 26.8125 56 \nQ 31.78125 56 36.171875 55.265625 \nQ 40.578125 54.546875 44.28125 53.078125 \nz\n\" id=\"DejaVuSans-115\"/>\n     </defs>\n     <g transform=\"translate(196.672443 361.636562)scale(0.1 -0.1)\">\n      <use xlink:href=\"#DejaVuSans-97\"/>\n      <use x=\"61.279297\" xlink:href=\"#DejaVuSans-110\"/>\n      <use x=\"124.658203\" xlink:href=\"#DejaVuSans-115\"/>\n     </g>\n    </g>\n   </g>\n   <g id=\"matplotlib.axis_2\">\n    <g id=\"ytick_1\">\n     <g id=\"line2d_19\">\n      <defs>\n       <path d=\"M 0 0 \nL -3.5 0 \n\" id=\"mdad612bfa9\" style=\"stroke:#000000;stroke-width:0.8;\"/>\n      </defs>\n      <g>\n       <use style=\"stroke:#000000;stroke-width:0.8;\" x=\"53.328125\" xlink:href=\"#mdad612bfa9\" y=\"333.36\"/>\n      </g>\n     </g>\n     <g id=\"text_20\">\n      <!-- 0 -->\n      <g transform=\"translate(39.965625 337.159219)scale(0.1 -0.1)\">\n       <use xlink:href=\"#DejaVuSans-48\"/>\n      </g>\n     </g>\n    </g>\n    <g id=\"ytick_2\">\n     <g id=\"line2d_20\">\n      <g>\n       <use style=\"stroke:#000000;stroke-width:0.8;\" x=\"53.328125\" xlink:href=\"#mdad612bfa9\" y=\"296.309836\"/>\n      </g>\n     </g>\n     <g id=\"text_21\">\n      <!-- 250 -->\n      <g transform=\"translate(27.240625 300.109055)scale(0.1 -0.1)\">\n       <use xlink:href=\"#DejaVuSans-50\"/>\n       <use x=\"63.623047\" xlink:href=\"#DejaVuSans-53\"/>\n       <use x=\"127.246094\" xlink:href=\"#DejaVuSans-48\"/>\n      </g>\n     </g>\n    </g>\n    <g id=\"ytick_3\">\n     <g id=\"line2d_21\">\n      <g>\n       <use style=\"stroke:#000000;stroke-width:0.8;\" x=\"53.328125\" xlink:href=\"#mdad612bfa9\" y=\"259.259673\"/>\n      </g>\n     </g>\n     <g id=\"text_22\">\n      <!-- 500 -->\n      <g transform=\"translate(27.240625 263.058892)scale(0.1 -0.1)\">\n       <use xlink:href=\"#DejaVuSans-53\"/>\n       <use x=\"63.623047\" xlink:href=\"#DejaVuSans-48\"/>\n       <use x=\"127.246094\" xlink:href=\"#DejaVuSans-48\"/>\n      </g>\n     </g>\n    </g>\n    <g id=\"ytick_4\">\n     <g id=\"line2d_22\">\n      <g>\n       <use style=\"stroke:#000000;stroke-width:0.8;\" x=\"53.328125\" xlink:href=\"#mdad612bfa9\" y=\"222.209509\"/>\n      </g>\n     </g>\n     <g id=\"text_23\">\n      <!-- 750 -->\n      <g transform=\"translate(27.240625 226.008728)scale(0.1 -0.1)\">\n       <use xlink:href=\"#DejaVuSans-55\"/>\n       <use x=\"63.623047\" xlink:href=\"#DejaVuSans-53\"/>\n       <use x=\"127.246094\" xlink:href=\"#DejaVuSans-48\"/>\n      </g>\n     </g>\n    </g>\n    <g id=\"ytick_5\">\n     <g id=\"line2d_23\">\n      <g>\n       <use style=\"stroke:#000000;stroke-width:0.8;\" x=\"53.328125\" xlink:href=\"#mdad612bfa9\" y=\"185.159346\"/>\n      </g>\n     </g>\n     <g id=\"text_24\">\n      <!-- 1000 -->\n      <g transform=\"translate(20.878125 188.958564)scale(0.1 -0.1)\">\n       <use xlink:href=\"#DejaVuSans-49\"/>\n       <use x=\"63.623047\" xlink:href=\"#DejaVuSans-48\"/>\n       <use x=\"127.246094\" xlink:href=\"#DejaVuSans-48\"/>\n       <use x=\"190.869141\" xlink:href=\"#DejaVuSans-48\"/>\n      </g>\n     </g>\n    </g>\n    <g id=\"ytick_6\">\n     <g id=\"line2d_24\">\n      <g>\n       <use style=\"stroke:#000000;stroke-width:0.8;\" x=\"53.328125\" xlink:href=\"#mdad612bfa9\" y=\"148.109182\"/>\n      </g>\n     </g>\n     <g id=\"text_25\">\n      <!-- 1250 -->\n      <g transform=\"translate(20.878125 151.908401)scale(0.1 -0.1)\">\n       <use xlink:href=\"#DejaVuSans-49\"/>\n       <use x=\"63.623047\" xlink:href=\"#DejaVuSans-50\"/>\n       <use x=\"127.246094\" xlink:href=\"#DejaVuSans-53\"/>\n       <use x=\"190.869141\" xlink:href=\"#DejaVuSans-48\"/>\n      </g>\n     </g>\n    </g>\n    <g id=\"ytick_7\">\n     <g id=\"line2d_25\">\n      <g>\n       <use style=\"stroke:#000000;stroke-width:0.8;\" x=\"53.328125\" xlink:href=\"#mdad612bfa9\" y=\"111.059019\"/>\n      </g>\n     </g>\n     <g id=\"text_26\">\n      <!-- 1500 -->\n      <g transform=\"translate(20.878125 114.858237)scale(0.1 -0.1)\">\n       <use xlink:href=\"#DejaVuSans-49\"/>\n       <use x=\"63.623047\" xlink:href=\"#DejaVuSans-53\"/>\n       <use x=\"127.246094\" xlink:href=\"#DejaVuSans-48\"/>\n       <use x=\"190.869141\" xlink:href=\"#DejaVuSans-48\"/>\n      </g>\n     </g>\n    </g>\n    <g id=\"ytick_8\">\n     <g id=\"line2d_26\">\n      <g>\n       <use style=\"stroke:#000000;stroke-width:0.8;\" x=\"53.328125\" xlink:href=\"#mdad612bfa9\" y=\"74.008855\"/>\n      </g>\n     </g>\n     <g id=\"text_27\">\n      <!-- 1750 -->\n      <g transform=\"translate(20.878125 77.808074)scale(0.1 -0.1)\">\n       <use xlink:href=\"#DejaVuSans-49\"/>\n       <use x=\"63.623047\" xlink:href=\"#DejaVuSans-55\"/>\n       <use x=\"127.246094\" xlink:href=\"#DejaVuSans-53\"/>\n       <use x=\"190.869141\" xlink:href=\"#DejaVuSans-48\"/>\n      </g>\n     </g>\n    </g>\n    <g id=\"ytick_9\">\n     <g id=\"line2d_27\">\n      <g>\n       <use style=\"stroke:#000000;stroke-width:0.8;\" x=\"53.328125\" xlink:href=\"#mdad612bfa9\" y=\"36.958691\"/>\n      </g>\n     </g>\n     <g id=\"text_28\">\n      <!-- 2000 -->\n      <g transform=\"translate(20.878125 40.75791)scale(0.1 -0.1)\">\n       <use xlink:href=\"#DejaVuSans-50\"/>\n       <use x=\"63.623047\" xlink:href=\"#DejaVuSans-48\"/>\n       <use x=\"127.246094\" xlink:href=\"#DejaVuSans-48\"/>\n       <use x=\"190.869141\" xlink:href=\"#DejaVuSans-48\"/>\n      </g>\n     </g>\n    </g>\n    <g id=\"text_29\">\n     <!-- count -->\n     <defs>\n      <path d=\"M 48.78125 52.59375 \nL 48.78125 44.1875 \nQ 44.96875 46.296875 41.140625 47.34375 \nQ 37.3125 48.390625 33.40625 48.390625 \nQ 24.65625 48.390625 19.8125 42.84375 \nQ 14.984375 37.3125 14.984375 27.296875 \nQ 14.984375 17.28125 19.8125 11.734375 \nQ 24.65625 6.203125 33.40625 6.203125 \nQ 37.3125 6.203125 41.140625 7.25 \nQ 44.96875 8.296875 48.78125 10.40625 \nL 48.78125 2.09375 \nQ 45.015625 0.34375 40.984375 -0.53125 \nQ 36.96875 -1.421875 32.421875 -1.421875 \nQ 20.0625 -1.421875 12.78125 6.34375 \nQ 5.515625 14.109375 5.515625 27.296875 \nQ 5.515625 40.671875 12.859375 48.328125 \nQ 20.21875 56 33.015625 56 \nQ 37.15625 56 41.109375 55.140625 \nQ 45.0625 54.296875 48.78125 52.59375 \nz\n\" id=\"DejaVuSans-99\"/>\n      <path d=\"M 30.609375 48.390625 \nQ 23.390625 48.390625 19.1875 42.75 \nQ 14.984375 37.109375 14.984375 27.296875 \nQ 14.984375 17.484375 19.15625 11.84375 \nQ 23.34375 6.203125 30.609375 6.203125 \nQ 37.796875 6.203125 41.984375 11.859375 \nQ 46.1875 17.53125 46.1875 27.296875 \nQ 46.1875 37.015625 41.984375 42.703125 \nQ 37.796875 48.390625 30.609375 48.390625 \nz\nM 30.609375 56 \nQ 42.328125 56 49.015625 48.375 \nQ 55.71875 40.765625 55.71875 27.296875 \nQ 55.71875 13.875 49.015625 6.21875 \nQ 42.328125 -1.421875 30.609375 -1.421875 \nQ 18.84375 -1.421875 12.171875 6.21875 \nQ 5.515625 13.875 5.515625 27.296875 \nQ 5.515625 40.765625 12.171875 48.375 \nQ 18.84375 56 30.609375 56 \nz\n\" id=\"DejaVuSans-111\"/>\n      <path d=\"M 8.5 21.578125 \nL 8.5 54.6875 \nL 17.484375 54.6875 \nL 17.484375 21.921875 \nQ 17.484375 14.15625 20.5 10.265625 \nQ 23.53125 6.390625 29.59375 6.390625 \nQ 36.859375 6.390625 41.078125 11.03125 \nQ 45.3125 15.671875 45.3125 23.6875 \nL 45.3125 54.6875 \nL 54.296875 54.6875 \nL 54.296875 0 \nL 45.3125 0 \nL 45.3125 8.40625 \nQ 42.046875 3.421875 37.71875 1 \nQ 33.40625 -1.421875 27.6875 -1.421875 \nQ 18.265625 -1.421875 13.375 4.4375 \nQ 8.5 10.296875 8.5 21.578125 \nz\nM 31.109375 56 \nz\n\" id=\"DejaVuSans-117\"/>\n      <path d=\"M 18.3125 70.21875 \nL 18.3125 54.6875 \nL 36.8125 54.6875 \nL 36.8125 47.703125 \nL 18.3125 47.703125 \nL 18.3125 18.015625 \nQ 18.3125 11.328125 20.140625 9.421875 \nQ 21.96875 7.515625 27.59375 7.515625 \nL 36.8125 7.515625 \nL 36.8125 0 \nL 27.59375 0 \nQ 17.1875 0 13.234375 3.875 \nQ 9.28125 7.765625 9.28125 18.015625 \nL 9.28125 47.703125 \nL 2.6875 47.703125 \nL 2.6875 54.6875 \nL 9.28125 54.6875 \nL 9.28125 70.21875 \nz\n\" id=\"DejaVuSans-116\"/>\n     </defs>\n     <g transform=\"translate(14.798438 184.38625)rotate(-90)scale(0.1 -0.1)\">\n      <use xlink:href=\"#DejaVuSans-99\"/>\n      <use x=\"54.980469\" xlink:href=\"#DejaVuSans-111\"/>\n      <use x=\"116.162109\" xlink:href=\"#DejaVuSans-117\"/>\n      <use x=\"179.541016\" xlink:href=\"#DejaVuSans-110\"/>\n      <use x=\"242.919922\" xlink:href=\"#DejaVuSans-116\"/>\n     </g>\n    </g>\n   </g>\n   <g id=\"patch_21\">\n    <path d=\"M 53.328125 333.36 \nL 53.328125 7.2 \n\" style=\"fill:none;stroke:#000000;stroke-linecap:square;stroke-linejoin:miter;stroke-width:0.8;\"/>\n   </g>\n   <g id=\"patch_22\">\n    <path d=\"M 357.691761 333.36 \nL 357.691761 7.2 \n\" style=\"fill:none;stroke:#000000;stroke-linecap:square;stroke-linejoin:miter;stroke-width:0.8;\"/>\n   </g>\n   <g id=\"patch_23\">\n    <path d=\"M 53.328125 333.36 \nL 357.691761 333.36 \n\" style=\"fill:none;stroke:#000000;stroke-linecap:square;stroke-linejoin:miter;stroke-width:0.8;\"/>\n   </g>\n   <g id=\"patch_24\">\n    <path d=\"M 53.328125 7.2 \nL 357.691761 7.2 \n\" style=\"fill:none;stroke:#000000;stroke-linecap:square;stroke-linejoin:miter;stroke-width:0.8;\"/>\n   </g>\n  </g>\n  <g id=\"axes_2\">\n   <g id=\"patch_25\">\n    <path d=\"M 418.564489 333.36 \nL 722.928125 333.36 \nL 722.928125 7.2 \nL 418.564489 7.2 \nz\n\" style=\"fill:#ffffff;\"/>\n   </g>\n   <g id=\"patch_26\">\n    <path clip-path=\"url(#pd5795d7399)\" d=\"M 428.175972 333.36 \nL 440.991283 333.36 \nL 440.991283 22.879629 \nL 428.175972 22.879629 \nz\n\" style=\"fill:#ea96a3;\"/>\n   </g>\n   <g id=\"patch_27\">\n    <path clip-path=\"url(#pd5795d7399)\" d=\"M 444.195111 333.36 \nL 457.010422 333.36 \nL 457.010422 48.07374 \nL 444.195111 48.07374 \nz\n\" style=\"fill:#e7957e;\"/>\n   </g>\n   <g id=\"patch_28\">\n    <path clip-path=\"url(#pd5795d7399)\" d=\"M 460.214249 333.36 \nL 473.02956 333.36 \nL 473.02956 159.076031 \nL 460.214249 159.076031 \nz\n\" style=\"fill:#d1964d;\"/>\n   </g>\n   <g id=\"patch_29\">\n    <path clip-path=\"url(#pd5795d7399)\" d=\"M 476.233388 333.36 \nL 489.048699 333.36 \nL 489.048699 67.636227 \nL 476.233388 67.636227 \nz\n\" style=\"fill:#b89c49;\"/>\n   </g>\n   <g id=\"patch_30\">\n    <path clip-path=\"url(#pd5795d7399)\" d=\"M 492.252527 333.36 \nL 505.067838 333.36 \nL 505.067838 68.37723 \nL 492.252527 68.37723 \nz\n\" style=\"fill:#a29f46;\"/>\n   </g>\n   <g id=\"patch_31\">\n    <path clip-path=\"url(#pd5795d7399)\" d=\"M 508.271666 333.36 \nL 521.086977 333.36 \nL 521.086977 303.423468 \nL 508.271666 303.423468 \nz\n\" style=\"fill:#8ca646;\"/>\n   </g>\n   <g id=\"patch_32\">\n    <path clip-path=\"url(#pd5795d7399)\" d=\"M 524.290804 333.36 \nL 537.106115 333.36 \nL 537.106115 267.855311 \nL 524.290804 267.855311 \nz\n\" style=\"fill:#60ae47;\"/>\n   </g>\n   <g id=\"patch_33\">\n    <path clip-path=\"url(#pd5795d7399)\" d=\"M 540.309943 333.36 \nL 553.125254 333.36 \nL 553.125254 255.702857 \nL 540.309943 255.702857 \nz\n\" style=\"fill:#49af7c;\"/>\n   </g>\n   <g id=\"patch_34\">\n    <path clip-path=\"url(#pd5795d7399)\" d=\"M 556.329082 333.36 \nL 569.144393 333.36 \nL 569.144393 315.427721 \nL 556.329082 315.427721 \nz\n\" style=\"fill:#4aad95;\"/>\n   </g>\n   <g id=\"patch_35\">\n    <path clip-path=\"url(#pd5795d7399)\" d=\"M 572.348221 333.36 \nL 585.163532 333.36 \nL 585.163532 283.416379 \nL 572.348221 283.416379 \nz\n\" style=\"fill:#4baba4;\"/>\n   </g>\n   <g id=\"patch_36\">\n    <path clip-path=\"url(#pd5795d7399)\" d=\"M 588.367359 333.36 \nL 601.18267 333.36 \nL 601.18267 282.675376 \nL 588.367359 282.675376 \nz\n\" style=\"fill:#4dabb3;\"/>\n   </g>\n   <g id=\"patch_37\">\n    <path clip-path=\"url(#pd5795d7399)\" d=\"M 604.386498 333.36 \nL 617.201809 333.36 \nL 617.201809 326.246369 \nL 604.386498 326.246369 \nz\n\" style=\"fill:#51acc7;\"/>\n   </g>\n   <g id=\"patch_38\">\n    <path clip-path=\"url(#pd5795d7399)\" d=\"M 620.405637 333.36 \nL 633.220948 333.36 \nL 633.220948 265.780502 \nL 620.405637 265.780502 \nz\n\" style=\"fill:#6daee2;\"/>\n   </g>\n   <g id=\"patch_39\">\n    <path clip-path=\"url(#pd5795d7399)\" d=\"M 636.424776 333.36 \nL 649.240087 333.36 \nL 649.240087 258.963272 \nL 636.424776 258.963272 \nz\n\" style=\"fill:#a6acea;\"/>\n   </g>\n   <g id=\"patch_40\">\n    <path clip-path=\"url(#pd5795d7399)\" d=\"M 652.443914 333.36 \nL 665.259225 333.36 \nL 665.259225 312.90831 \nL 652.443914 312.90831 \nz\n\" style=\"fill:#c4a1ea;\"/>\n   </g>\n   <g id=\"patch_41\">\n    <path clip-path=\"url(#pd5795d7399)\" d=\"M 668.463053 333.36 \nL 681.278364 333.36 \nL 681.278364 281.489771 \nL 668.463053 281.489771 \nz\n\" style=\"fill:#df8fe7;\"/>\n   </g>\n   <g id=\"patch_42\">\n    <path clip-path=\"url(#pd5795d7399)\" d=\"M 684.482192 333.36 \nL 697.297503 333.36 \nL 697.297503 284.601985 \nL 684.482192 284.601985 \nz\n\" style=\"fill:#e88ed1;\"/>\n   </g>\n   <g id=\"patch_43\">\n    <path clip-path=\"url(#pd5795d7399)\" d=\"M 700.501331 333.36 \nL 713.316642 333.36 \nL 713.316642 328.617579 \nL 700.501331 328.617579 \nz\n\" style=\"fill:#e992bb;\"/>\n   </g>\n   <g id=\"matplotlib.axis_3\">\n    <g id=\"xtick_19\">\n     <g id=\"line2d_28\">\n      <g>\n       <use style=\"stroke:#000000;stroke-width:0.8;\" x=\"434.583627\" xlink:href=\"#mf3e2fb5137\" y=\"333.36\"/>\n      </g>\n     </g>\n     <g id=\"text_30\">\n      <!-- 0 -->\n      <g transform=\"translate(431.402377 347.958438)scale(0.1 -0.1)\">\n       <use xlink:href=\"#DejaVuSans-48\"/>\n      </g>\n     </g>\n    </g>\n    <g id=\"xtick_20\">\n     <g id=\"line2d_29\">\n      <g>\n       <use style=\"stroke:#000000;stroke-width:0.8;\" x=\"450.602766\" xlink:href=\"#mf3e2fb5137\" y=\"333.36\"/>\n      </g>\n     </g>\n     <g id=\"text_31\">\n      <!-- 1 -->\n      <g transform=\"translate(447.421516 347.958438)scale(0.1 -0.1)\">\n       <use xlink:href=\"#DejaVuSans-49\"/>\n      </g>\n     </g>\n    </g>\n    <g id=\"xtick_21\">\n     <g id=\"line2d_30\">\n      <g>\n       <use style=\"stroke:#000000;stroke-width:0.8;\" x=\"466.621905\" xlink:href=\"#mf3e2fb5137\" y=\"333.36\"/>\n      </g>\n     </g>\n     <g id=\"text_32\">\n      <!-- 2 -->\n      <g transform=\"translate(463.440655 347.958438)scale(0.1 -0.1)\">\n       <use xlink:href=\"#DejaVuSans-50\"/>\n      </g>\n     </g>\n    </g>\n    <g id=\"xtick_22\">\n     <g id=\"line2d_31\">\n      <g>\n       <use style=\"stroke:#000000;stroke-width:0.8;\" x=\"482.641044\" xlink:href=\"#mf3e2fb5137\" y=\"333.36\"/>\n      </g>\n     </g>\n     <g id=\"text_33\">\n      <!-- 3 -->\n      <g transform=\"translate(479.459794 347.958438)scale(0.1 -0.1)\">\n       <use xlink:href=\"#DejaVuSans-51\"/>\n      </g>\n     </g>\n    </g>\n    <g id=\"xtick_23\">\n     <g id=\"line2d_32\">\n      <g>\n       <use style=\"stroke:#000000;stroke-width:0.8;\" x=\"498.660182\" xlink:href=\"#mf3e2fb5137\" y=\"333.36\"/>\n      </g>\n     </g>\n     <g id=\"text_34\">\n      <!-- 4 -->\n      <g transform=\"translate(495.478932 347.958438)scale(0.1 -0.1)\">\n       <use xlink:href=\"#DejaVuSans-52\"/>\n      </g>\n     </g>\n    </g>\n    <g id=\"xtick_24\">\n     <g id=\"line2d_33\">\n      <g>\n       <use style=\"stroke:#000000;stroke-width:0.8;\" x=\"514.679321\" xlink:href=\"#mf3e2fb5137\" y=\"333.36\"/>\n      </g>\n     </g>\n     <g id=\"text_35\">\n      <!-- 5 -->\n      <g transform=\"translate(511.498071 347.958438)scale(0.1 -0.1)\">\n       <use xlink:href=\"#DejaVuSans-53\"/>\n      </g>\n     </g>\n    </g>\n    <g id=\"xtick_25\">\n     <g id=\"line2d_34\">\n      <g>\n       <use style=\"stroke:#000000;stroke-width:0.8;\" x=\"530.69846\" xlink:href=\"#mf3e2fb5137\" y=\"333.36\"/>\n      </g>\n     </g>\n     <g id=\"text_36\">\n      <!-- 6 -->\n      <g transform=\"translate(527.51721 347.958438)scale(0.1 -0.1)\">\n       <use xlink:href=\"#DejaVuSans-54\"/>\n      </g>\n     </g>\n    </g>\n    <g id=\"xtick_26\">\n     <g id=\"line2d_35\">\n      <g>\n       <use style=\"stroke:#000000;stroke-width:0.8;\" x=\"546.717599\" xlink:href=\"#mf3e2fb5137\" y=\"333.36\"/>\n      </g>\n     </g>\n     <g id=\"text_37\">\n      <!-- 7 -->\n      <g transform=\"translate(543.536349 347.958438)scale(0.1 -0.1)\">\n       <use xlink:href=\"#DejaVuSans-55\"/>\n      </g>\n     </g>\n    </g>\n    <g id=\"xtick_27\">\n     <g id=\"line2d_36\">\n      <g>\n       <use style=\"stroke:#000000;stroke-width:0.8;\" x=\"562.736737\" xlink:href=\"#mf3e2fb5137\" y=\"333.36\"/>\n      </g>\n     </g>\n     <g id=\"text_38\">\n      <!-- 8 -->\n      <g transform=\"translate(559.555487 347.958438)scale(0.1 -0.1)\">\n       <use xlink:href=\"#DejaVuSans-56\"/>\n      </g>\n     </g>\n    </g>\n    <g id=\"xtick_28\">\n     <g id=\"line2d_37\">\n      <g>\n       <use style=\"stroke:#000000;stroke-width:0.8;\" x=\"578.755876\" xlink:href=\"#mf3e2fb5137\" y=\"333.36\"/>\n      </g>\n     </g>\n     <g id=\"text_39\">\n      <!-- 9 -->\n      <g transform=\"translate(575.574626 347.958438)scale(0.1 -0.1)\">\n       <use xlink:href=\"#DejaVuSans-57\"/>\n      </g>\n     </g>\n    </g>\n    <g id=\"xtick_29\">\n     <g id=\"line2d_38\">\n      <g>\n       <use style=\"stroke:#000000;stroke-width:0.8;\" x=\"594.775015\" xlink:href=\"#mf3e2fb5137\" y=\"333.36\"/>\n      </g>\n     </g>\n     <g id=\"text_40\">\n      <!-- 10 -->\n      <g transform=\"translate(588.412515 347.958438)scale(0.1 -0.1)\">\n       <use xlink:href=\"#DejaVuSans-49\"/>\n       <use x=\"63.623047\" xlink:href=\"#DejaVuSans-48\"/>\n      </g>\n     </g>\n    </g>\n    <g id=\"xtick_30\">\n     <g id=\"line2d_39\">\n      <g>\n       <use style=\"stroke:#000000;stroke-width:0.8;\" x=\"610.794154\" xlink:href=\"#mf3e2fb5137\" y=\"333.36\"/>\n      </g>\n     </g>\n     <g id=\"text_41\">\n      <!-- 11 -->\n      <g transform=\"translate(604.431654 347.958438)scale(0.1 -0.1)\">\n       <use xlink:href=\"#DejaVuSans-49\"/>\n       <use x=\"63.623047\" xlink:href=\"#DejaVuSans-49\"/>\n      </g>\n     </g>\n    </g>\n    <g id=\"xtick_31\">\n     <g id=\"line2d_40\">\n      <g>\n       <use style=\"stroke:#000000;stroke-width:0.8;\" x=\"626.813292\" xlink:href=\"#mf3e2fb5137\" y=\"333.36\"/>\n      </g>\n     </g>\n     <g id=\"text_42\">\n      <!-- 12 -->\n      <g transform=\"translate(620.450792 347.958438)scale(0.1 -0.1)\">\n       <use xlink:href=\"#DejaVuSans-49\"/>\n       <use x=\"63.623047\" xlink:href=\"#DejaVuSans-50\"/>\n      </g>\n     </g>\n    </g>\n    <g id=\"xtick_32\">\n     <g id=\"line2d_41\">\n      <g>\n       <use style=\"stroke:#000000;stroke-width:0.8;\" x=\"642.832431\" xlink:href=\"#mf3e2fb5137\" y=\"333.36\"/>\n      </g>\n     </g>\n     <g id=\"text_43\">\n      <!-- 13 -->\n      <g transform=\"translate(636.469931 347.958438)scale(0.1 -0.1)\">\n       <use xlink:href=\"#DejaVuSans-49\"/>\n       <use x=\"63.623047\" xlink:href=\"#DejaVuSans-51\"/>\n      </g>\n     </g>\n    </g>\n    <g id=\"xtick_33\">\n     <g id=\"line2d_42\">\n      <g>\n       <use style=\"stroke:#000000;stroke-width:0.8;\" x=\"658.85157\" xlink:href=\"#mf3e2fb5137\" y=\"333.36\"/>\n      </g>\n     </g>\n     <g id=\"text_44\">\n      <!-- 14 -->\n      <g transform=\"translate(652.48907 347.958438)scale(0.1 -0.1)\">\n       <use xlink:href=\"#DejaVuSans-49\"/>\n       <use x=\"63.623047\" xlink:href=\"#DejaVuSans-52\"/>\n      </g>\n     </g>\n    </g>\n    <g id=\"xtick_34\">\n     <g id=\"line2d_43\">\n      <g>\n       <use style=\"stroke:#000000;stroke-width:0.8;\" x=\"674.870709\" xlink:href=\"#mf3e2fb5137\" y=\"333.36\"/>\n      </g>\n     </g>\n     <g id=\"text_45\">\n      <!-- 15 -->\n      <g transform=\"translate(668.508209 347.958438)scale(0.1 -0.1)\">\n       <use xlink:href=\"#DejaVuSans-49\"/>\n       <use x=\"63.623047\" xlink:href=\"#DejaVuSans-53\"/>\n      </g>\n     </g>\n    </g>\n    <g id=\"xtick_35\">\n     <g id=\"line2d_44\">\n      <g>\n       <use style=\"stroke:#000000;stroke-width:0.8;\" x=\"690.889847\" xlink:href=\"#mf3e2fb5137\" y=\"333.36\"/>\n      </g>\n     </g>\n     <g id=\"text_46\">\n      <!-- 16 -->\n      <g transform=\"translate(684.527347 347.958438)scale(0.1 -0.1)\">\n       <use xlink:href=\"#DejaVuSans-49\"/>\n       <use x=\"63.623047\" xlink:href=\"#DejaVuSans-54\"/>\n      </g>\n     </g>\n    </g>\n    <g id=\"xtick_36\">\n     <g id=\"line2d_45\">\n      <g>\n       <use style=\"stroke:#000000;stroke-width:0.8;\" x=\"706.908986\" xlink:href=\"#mf3e2fb5137\" y=\"333.36\"/>\n      </g>\n     </g>\n     <g id=\"text_47\">\n      <!-- 17 -->\n      <g transform=\"translate(700.546486 347.958438)scale(0.1 -0.1)\">\n       <use xlink:href=\"#DejaVuSans-49\"/>\n       <use x=\"63.623047\" xlink:href=\"#DejaVuSans-55\"/>\n      </g>\n     </g>\n    </g>\n    <g id=\"text_48\">\n     <!-- ans -->\n     <g transform=\"translate(561.908807 361.636562)scale(0.1 -0.1)\">\n      <use xlink:href=\"#DejaVuSans-97\"/>\n      <use x=\"61.279297\" xlink:href=\"#DejaVuSans-110\"/>\n      <use x=\"124.658203\" xlink:href=\"#DejaVuSans-115\"/>\n     </g>\n    </g>\n   </g>\n   <g id=\"matplotlib.axis_4\">\n    <g id=\"ytick_10\">\n     <g id=\"line2d_46\">\n      <g>\n       <use style=\"stroke:#000000;stroke-width:0.8;\" x=\"418.564489\" xlink:href=\"#mdad612bfa9\" y=\"333.36\"/>\n      </g>\n     </g>\n    </g>\n    <g id=\"ytick_11\">\n     <g id=\"line2d_47\">\n      <g>\n       <use style=\"stroke:#000000;stroke-width:0.8;\" x=\"418.564489\" xlink:href=\"#mdad612bfa9\" y=\"296.309836\"/>\n      </g>\n     </g>\n    </g>\n    <g id=\"ytick_12\">\n     <g id=\"line2d_48\">\n      <g>\n       <use style=\"stroke:#000000;stroke-width:0.8;\" x=\"418.564489\" xlink:href=\"#mdad612bfa9\" y=\"259.259673\"/>\n      </g>\n     </g>\n    </g>\n    <g id=\"ytick_13\">\n     <g id=\"line2d_49\">\n      <g>\n       <use style=\"stroke:#000000;stroke-width:0.8;\" x=\"418.564489\" xlink:href=\"#mdad612bfa9\" y=\"222.209509\"/>\n      </g>\n     </g>\n    </g>\n    <g id=\"ytick_14\">\n     <g id=\"line2d_50\">\n      <g>\n       <use style=\"stroke:#000000;stroke-width:0.8;\" x=\"418.564489\" xlink:href=\"#mdad612bfa9\" y=\"185.159346\"/>\n      </g>\n     </g>\n    </g>\n    <g id=\"ytick_15\">\n     <g id=\"line2d_51\">\n      <g>\n       <use style=\"stroke:#000000;stroke-width:0.8;\" x=\"418.564489\" xlink:href=\"#mdad612bfa9\" y=\"148.109182\"/>\n      </g>\n     </g>\n    </g>\n    <g id=\"ytick_16\">\n     <g id=\"line2d_52\">\n      <g>\n       <use style=\"stroke:#000000;stroke-width:0.8;\" x=\"418.564489\" xlink:href=\"#mdad612bfa9\" y=\"111.059019\"/>\n      </g>\n     </g>\n    </g>\n    <g id=\"ytick_17\">\n     <g id=\"line2d_53\">\n      <g>\n       <use style=\"stroke:#000000;stroke-width:0.8;\" x=\"418.564489\" xlink:href=\"#mdad612bfa9\" y=\"74.008855\"/>\n      </g>\n     </g>\n    </g>\n    <g id=\"ytick_18\">\n     <g id=\"line2d_54\">\n      <g>\n       <use style=\"stroke:#000000;stroke-width:0.8;\" x=\"418.564489\" xlink:href=\"#mdad612bfa9\" y=\"36.958691\"/>\n      </g>\n     </g>\n    </g>\n    <g id=\"text_49\">\n     <!-- count -->\n     <g transform=\"translate(412.484801 184.38625)rotate(-90)scale(0.1 -0.1)\">\n      <use xlink:href=\"#DejaVuSans-99\"/>\n      <use x=\"54.980469\" xlink:href=\"#DejaVuSans-111\"/>\n      <use x=\"116.162109\" xlink:href=\"#DejaVuSans-117\"/>\n      <use x=\"179.541016\" xlink:href=\"#DejaVuSans-110\"/>\n      <use x=\"242.919922\" xlink:href=\"#DejaVuSans-116\"/>\n     </g>\n    </g>\n   </g>\n   <g id=\"patch_44\">\n    <path d=\"M 418.564489 333.36 \nL 418.564489 7.2 \n\" style=\"fill:none;stroke:#000000;stroke-linecap:square;stroke-linejoin:miter;stroke-width:0.8;\"/>\n   </g>\n   <g id=\"patch_45\">\n    <path d=\"M 722.928125 333.36 \nL 722.928125 7.2 \n\" style=\"fill:none;stroke:#000000;stroke-linecap:square;stroke-linejoin:miter;stroke-width:0.8;\"/>\n   </g>\n   <g id=\"patch_46\">\n    <path d=\"M 418.564489 333.36 \nL 722.928125 333.36 \n\" style=\"fill:none;stroke:#000000;stroke-linecap:square;stroke-linejoin:miter;stroke-width:0.8;\"/>\n   </g>\n   <g id=\"patch_47\">\n    <path d=\"M 418.564489 7.2 \nL 722.928125 7.2 \n\" style=\"fill:none;stroke:#000000;stroke-linecap:square;stroke-linejoin:miter;stroke-width:0.8;\"/>\n   </g>\n  </g>\n </g>\n <defs>\n  <clipPath id=\"p78012e0e07\">\n   <rect height=\"326.16\" width=\"304.363636\" x=\"53.328125\" y=\"7.2\"/>\n  </clipPath>\n  <clipPath id=\"pd5795d7399\">\n   <rect height=\"326.16\" width=\"304.363636\" x=\"418.564489\" y=\"7.2\"/>\n  </clipPath>\n </defs>\n</svg>\n",
                        "image/png": "[encoded data removed]"
                    },
                    "metadata": {
                        "needs_background": "light"
                    }
                }
            ],
            "metadata": {}
        },
        {
            "cell_type": "code",
            "execution_count": 69,
            "source": [
                "for idx, (basic, TTA) in enumerate(zip(base_df['ans'], cur_df['ans'])):\n",
                "    if basic != TTA:\n",
                "        print(f'{basic}, {TTA}')"
            ],
            "outputs": [
                {
                    "output_type": "stream",
                    "name": "stdout",
                    "text": [
                        "5, 4\n",
                        "8, 7\n",
                        "8, 7\n",
                        "4, 2\n",
                        "3, 2\n",
                        "5, 2\n",
                        "0, 6\n",
                        "0, 2\n",
                        "13, 12\n",
                        "1, 2\n",
                        "1, 0\n",
                        "8, 7\n",
                        "1, 2\n",
                        "16, 15\n",
                        "3, 4\n",
                        "5, 4\n",
                        "2, 4\n",
                        "5, 4\n",
                        "1, 4\n",
                        "11, 10\n",
                        "4, 3\n",
                        "8, 7\n"
                    ]
                }
            ],
            "metadata": {}
        },
        {
            "cell_type": "code",
            "execution_count": 79,
            "source": [
                "# base_df = base_df.append({'ImageID':'a', 'ans' : 100},  ignore_index=True)\n",
                "base_df['ans'].unique()"
            ],
            "outputs": [
                {
                    "output_type": "execute_result",
                    "data": {
                        "text/plain": [
                            "array([13,  2, 12,  0,  7,  4,  3,  6,  1, 16,  5,  9, 10, 15, 14, 17, 11,\n",
                            "        8])"
                        ]
                    },
                    "metadata": {},
                    "execution_count": 79
                }
            ],
            "metadata": {}
        },
        {
            "cell_type": "code",
            "execution_count": 71,
            "source": [
                "df_merge = pd.merge(left = base_df , right = cur_df, how = \"outer\", on = \"ImageID\")"
            ],
            "outputs": [],
            "metadata": {}
        },
        {
            "cell_type": "code",
            "execution_count": 72,
            "source": [
                "len(df_merge[df_merge['ans_x'] != df_merge['ans_y']])"
            ],
            "outputs": [
                {
                    "output_type": "execute_result",
                    "data": {
                        "text/plain": [
                            "22"
                        ]
                    },
                    "metadata": {},
                    "execution_count": 72
                }
            ],
            "metadata": {}
        },
        {
            "cell_type": "code",
            "execution_count": 74,
            "source": [
                "df_merge[df_merge['ans_x'] != df_merge['ans_y']]"
            ],
            "outputs": [
                {
                    "output_type": "execute_result",
                    "data": {
                        "text/plain": [
                            "                                            ImageID  ans_x  ans_y\n",
                            "782    fc17a8ee89a6cfca8dbf49f0450d05484d3f8214.jpg      5      4\n",
                            "1488   c5aa68de6b8a5fef146ea017677abf379c34f574.jpg      8      7\n",
                            "2658   b0f0bd7586588f4501ab3e6bdd2496f54e16a132.jpg      8      7\n",
                            "3389   24a068b904d932ee2320f16bb65dcfe19a09c205.jpg      4      2\n",
                            "4238   596d33fc8e321bf3fc48becfb34adea03ce631fb.jpg      3      2\n",
                            "4465   8737db9caeb73039cecf00b8f03b476a91e28f12.jpg      5      2\n",
                            "4689   b2e9f869e87a927bac049e73e2e40742878faedf.jpg      0      6\n",
                            "5567   1f4be84d2245065466ea3131e0eed6282f15aa05.jpg      0      2\n",
                            "5602   5cd25aeed8bc549f6c403bf4f0427ebc0c340ede.jpg     13     12\n",
                            "6081   64b11e9f2690bfdcc39f55d09a5a2a4225d09974.jpg      1      2\n",
                            "6112   b57020ecb00d74d0f00ec3fffd9bf48cf00a9c38.jpg      1      0\n",
                            "6316   82e186a356dcdd64944d3420eb3f896d17b24da2.jpg      8      7\n",
                            "6700   04d457bbbb027d8071c105289fbd145758fc3e39.jpg      1      2\n",
                            "6822   b6fa553cb0d9244a2b081c0f7718a74630aac377.jpg     16     15\n",
                            "7245   9d0dff7d648e72ef8dc0d79abdfdd8cae52cc162.jpg      3      4\n",
                            "7367   38101f9390c8bdf5af35df8dffce20215f6a304a.jpg      5      4\n",
                            "7607   aa7e8690ba5230198d8f47ba02d259f2c48cae09.jpg      2      4\n",
                            "7757   d6c71546c86c289071c201396933c99383889022.jpg      5      4\n",
                            "8505   163033ae45436d5d771d906e02859baee609b346.jpg      1      4\n",
                            "8954   1e5b0a765ba3e19d3493f529e48a6ff10d5b1643.jpg     11     10\n",
                            "10612  c830eea247e77497c095aad6fc40feecad673c98.jpg      4      3\n",
                            "11292  602d583557c9732d38d6c36b10af3bfdae8a33b7.jpg      8      7"
                        ],
                        "text/html": [
                            "<div>\n",
                            "<style scoped>\n",
                            "    .dataframe tbody tr th:only-of-type {\n",
                            "        vertical-align: middle;\n",
                            "    }\n",
                            "\n",
                            "    .dataframe tbody tr th {\n",
                            "        vertical-align: top;\n",
                            "    }\n",
                            "\n",
                            "    .dataframe thead th {\n",
                            "        text-align: right;\n",
                            "    }\n",
                            "</style>\n",
                            "<table border=\"1\" class=\"dataframe\">\n",
                            "  <thead>\n",
                            "    <tr style=\"text-align: right;\">\n",
                            "      <th></th>\n",
                            "      <th>ImageID</th>\n",
                            "      <th>ans_x</th>\n",
                            "      <th>ans_y</th>\n",
                            "    </tr>\n",
                            "  </thead>\n",
                            "  <tbody>\n",
                            "    <tr>\n",
                            "      <th>782</th>\n",
                            "      <td>fc17a8ee89a6cfca8dbf49f0450d05484d3f8214.jpg</td>\n",
                            "      <td>5</td>\n",
                            "      <td>4</td>\n",
                            "    </tr>\n",
                            "    <tr>\n",
                            "      <th>1488</th>\n",
                            "      <td>c5aa68de6b8a5fef146ea017677abf379c34f574.jpg</td>\n",
                            "      <td>8</td>\n",
                            "      <td>7</td>\n",
                            "    </tr>\n",
                            "    <tr>\n",
                            "      <th>2658</th>\n",
                            "      <td>b0f0bd7586588f4501ab3e6bdd2496f54e16a132.jpg</td>\n",
                            "      <td>8</td>\n",
                            "      <td>7</td>\n",
                            "    </tr>\n",
                            "    <tr>\n",
                            "      <th>3389</th>\n",
                            "      <td>24a068b904d932ee2320f16bb65dcfe19a09c205.jpg</td>\n",
                            "      <td>4</td>\n",
                            "      <td>2</td>\n",
                            "    </tr>\n",
                            "    <tr>\n",
                            "      <th>4238</th>\n",
                            "      <td>596d33fc8e321bf3fc48becfb34adea03ce631fb.jpg</td>\n",
                            "      <td>3</td>\n",
                            "      <td>2</td>\n",
                            "    </tr>\n",
                            "    <tr>\n",
                            "      <th>4465</th>\n",
                            "      <td>8737db9caeb73039cecf00b8f03b476a91e28f12.jpg</td>\n",
                            "      <td>5</td>\n",
                            "      <td>2</td>\n",
                            "    </tr>\n",
                            "    <tr>\n",
                            "      <th>4689</th>\n",
                            "      <td>b2e9f869e87a927bac049e73e2e40742878faedf.jpg</td>\n",
                            "      <td>0</td>\n",
                            "      <td>6</td>\n",
                            "    </tr>\n",
                            "    <tr>\n",
                            "      <th>5567</th>\n",
                            "      <td>1f4be84d2245065466ea3131e0eed6282f15aa05.jpg</td>\n",
                            "      <td>0</td>\n",
                            "      <td>2</td>\n",
                            "    </tr>\n",
                            "    <tr>\n",
                            "      <th>5602</th>\n",
                            "      <td>5cd25aeed8bc549f6c403bf4f0427ebc0c340ede.jpg</td>\n",
                            "      <td>13</td>\n",
                            "      <td>12</td>\n",
                            "    </tr>\n",
                            "    <tr>\n",
                            "      <th>6081</th>\n",
                            "      <td>64b11e9f2690bfdcc39f55d09a5a2a4225d09974.jpg</td>\n",
                            "      <td>1</td>\n",
                            "      <td>2</td>\n",
                            "    </tr>\n",
                            "    <tr>\n",
                            "      <th>6112</th>\n",
                            "      <td>b57020ecb00d74d0f00ec3fffd9bf48cf00a9c38.jpg</td>\n",
                            "      <td>1</td>\n",
                            "      <td>0</td>\n",
                            "    </tr>\n",
                            "    <tr>\n",
                            "      <th>6316</th>\n",
                            "      <td>82e186a356dcdd64944d3420eb3f896d17b24da2.jpg</td>\n",
                            "      <td>8</td>\n",
                            "      <td>7</td>\n",
                            "    </tr>\n",
                            "    <tr>\n",
                            "      <th>6700</th>\n",
                            "      <td>04d457bbbb027d8071c105289fbd145758fc3e39.jpg</td>\n",
                            "      <td>1</td>\n",
                            "      <td>2</td>\n",
                            "    </tr>\n",
                            "    <tr>\n",
                            "      <th>6822</th>\n",
                            "      <td>b6fa553cb0d9244a2b081c0f7718a74630aac377.jpg</td>\n",
                            "      <td>16</td>\n",
                            "      <td>15</td>\n",
                            "    </tr>\n",
                            "    <tr>\n",
                            "      <th>7245</th>\n",
                            "      <td>9d0dff7d648e72ef8dc0d79abdfdd8cae52cc162.jpg</td>\n",
                            "      <td>3</td>\n",
                            "      <td>4</td>\n",
                            "    </tr>\n",
                            "    <tr>\n",
                            "      <th>7367</th>\n",
                            "      <td>38101f9390c8bdf5af35df8dffce20215f6a304a.jpg</td>\n",
                            "      <td>5</td>\n",
                            "      <td>4</td>\n",
                            "    </tr>\n",
                            "    <tr>\n",
                            "      <th>7607</th>\n",
                            "      <td>aa7e8690ba5230198d8f47ba02d259f2c48cae09.jpg</td>\n",
                            "      <td>2</td>\n",
                            "      <td>4</td>\n",
                            "    </tr>\n",
                            "    <tr>\n",
                            "      <th>7757</th>\n",
                            "      <td>d6c71546c86c289071c201396933c99383889022.jpg</td>\n",
                            "      <td>5</td>\n",
                            "      <td>4</td>\n",
                            "    </tr>\n",
                            "    <tr>\n",
                            "      <th>8505</th>\n",
                            "      <td>163033ae45436d5d771d906e02859baee609b346.jpg</td>\n",
                            "      <td>1</td>\n",
                            "      <td>4</td>\n",
                            "    </tr>\n",
                            "    <tr>\n",
                            "      <th>8954</th>\n",
                            "      <td>1e5b0a765ba3e19d3493f529e48a6ff10d5b1643.jpg</td>\n",
                            "      <td>11</td>\n",
                            "      <td>10</td>\n",
                            "    </tr>\n",
                            "    <tr>\n",
                            "      <th>10612</th>\n",
                            "      <td>c830eea247e77497c095aad6fc40feecad673c98.jpg</td>\n",
                            "      <td>4</td>\n",
                            "      <td>3</td>\n",
                            "    </tr>\n",
                            "    <tr>\n",
                            "      <th>11292</th>\n",
                            "      <td>602d583557c9732d38d6c36b10af3bfdae8a33b7.jpg</td>\n",
                            "      <td>8</td>\n",
                            "      <td>7</td>\n",
                            "    </tr>\n",
                            "  </tbody>\n",
                            "</table>\n",
                            "</div>"
                        ]
                    },
                    "metadata": {},
                    "execution_count": 74
                }
            ],
            "metadata": {}
        },
        {
            "cell_type": "code",
            "execution_count": null,
            "source": [],
            "outputs": [],
            "metadata": {}
        }
    ],
    "metadata": {
        "orig_nbformat": 4,
        "language_info": {
            "name": "python",
            "version": "3.8.5",
            "mimetype": "text/x-python",
            "codemirror_mode": {
                "name": "ipython",
                "version": 3
            },
            "pygments_lexer": "ipython3",
            "nbconvert_exporter": "python",
            "file_extension": ".py"
        },
        "kernelspec": {
            "name": "python3",
            "display_name": "Python 3.8.5 64-bit ('base': conda)"
        },
        "interpreter": {
            "hash": "98b0a9b7b4eaaa670588a142fd0a9b87eaafe866f1db4228be72b4211d12040f"
        }
    },
    "nbformat": 4,
    "nbformat_minor": 2
}